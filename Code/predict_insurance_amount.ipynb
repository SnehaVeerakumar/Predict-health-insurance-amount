{
 "cells": [
  {
   "cell_type": "markdown",
   "metadata": {},
   "source": [
    "# Prediction of health insurance amount"
   ]
  },
  {
   "cell_type": "code",
   "execution_count": null,
   "metadata": {},
   "outputs": [],
   "source": [
    "#Import libraries\n",
    "import pandas as pd\n",
    "import pandas_profiling as pp\n",
    "import numpy as np\n",
    "import seaborn as sns\n",
    "import matplotlib.pyplot as mp"
   ]
  },
  {
   "cell_type": "code",
   "execution_count": 2,
   "metadata": {},
   "outputs": [],
   "source": [
    "#Read dataset\n",
    "heart = pd.read_csv(r\"..\\Dataset\\heart.csv\")\n",
    "diab = pd.read_csv(r\"..\\Dataset\\diabetes.csv\")\n",
    "cancer = pd.read_csv(r\"..\\Dataset\\cancer.csv\")"
   ]
  },
  {
   "cell_type": "markdown",
   "metadata": {},
   "source": [
    "Three most expensive diseases in the world according to National Association for Biomedical Research :\n",
    "1. Heart disease\n",
    "2. Diabetes \n",
    "3. Cancer "
   ]
  },
  {
   "cell_type": "markdown",
   "metadata": {},
   "source": [
    "## Analysis of Disease Indicators\n",
    "We will analyse each dataset of the diseases such as heart disease, diabetes and cancer to find risk factors of the particular disease. We will then apply intersection between three sets for feature selection."
   ]
  },
  {
   "cell_type": "markdown",
   "metadata": {},
   "source": [
    "### Analysis of Heart Disease Indicators dataset"
   ]
  },
  {
   "cell_type": "code",
   "execution_count": 3,
   "metadata": {},
   "outputs": [
    {
     "data": {
      "text/html": [
       "<div>\n",
       "<style scoped>\n",
       "    .dataframe tbody tr th:only-of-type {\n",
       "        vertical-align: middle;\n",
       "    }\n",
       "\n",
       "    .dataframe tbody tr th {\n",
       "        vertical-align: top;\n",
       "    }\n",
       "\n",
       "    .dataframe thead th {\n",
       "        text-align: right;\n",
       "    }\n",
       "</style>\n",
       "<table border=\"1\" class=\"dataframe\">\n",
       "  <thead>\n",
       "    <tr style=\"text-align: right;\">\n",
       "      <th></th>\n",
       "      <th>HeartDisease</th>\n",
       "      <th>HighBP</th>\n",
       "      <th>HighChol</th>\n",
       "      <th>CholCheck</th>\n",
       "      <th>BMI</th>\n",
       "      <th>Smoker</th>\n",
       "      <th>Stroke</th>\n",
       "      <th>HealthyEatingHabits</th>\n",
       "      <th>HvyAlcoholConsump</th>\n",
       "      <th>Gender</th>\n",
       "      <th>Age</th>\n",
       "      <th>Education</th>\n",
       "      <th>Income</th>\n",
       "    </tr>\n",
       "  </thead>\n",
       "  <tbody>\n",
       "    <tr>\n",
       "      <th>0</th>\n",
       "      <td>0</td>\n",
       "      <td>1</td>\n",
       "      <td>1</td>\n",
       "      <td>1</td>\n",
       "      <td>40</td>\n",
       "      <td>1</td>\n",
       "      <td>0</td>\n",
       "      <td>0</td>\n",
       "      <td>0</td>\n",
       "      <td>0</td>\n",
       "      <td>9</td>\n",
       "      <td>4</td>\n",
       "      <td>3</td>\n",
       "    </tr>\n",
       "    <tr>\n",
       "      <th>1</th>\n",
       "      <td>0</td>\n",
       "      <td>0</td>\n",
       "      <td>0</td>\n",
       "      <td>0</td>\n",
       "      <td>25</td>\n",
       "      <td>1</td>\n",
       "      <td>0</td>\n",
       "      <td>0</td>\n",
       "      <td>0</td>\n",
       "      <td>0</td>\n",
       "      <td>7</td>\n",
       "      <td>6</td>\n",
       "      <td>1</td>\n",
       "    </tr>\n",
       "    <tr>\n",
       "      <th>2</th>\n",
       "      <td>0</td>\n",
       "      <td>1</td>\n",
       "      <td>1</td>\n",
       "      <td>1</td>\n",
       "      <td>28</td>\n",
       "      <td>0</td>\n",
       "      <td>0</td>\n",
       "      <td>1</td>\n",
       "      <td>0</td>\n",
       "      <td>0</td>\n",
       "      <td>9</td>\n",
       "      <td>4</td>\n",
       "      <td>8</td>\n",
       "    </tr>\n",
       "    <tr>\n",
       "      <th>3</th>\n",
       "      <td>0</td>\n",
       "      <td>1</td>\n",
       "      <td>0</td>\n",
       "      <td>1</td>\n",
       "      <td>27</td>\n",
       "      <td>0</td>\n",
       "      <td>0</td>\n",
       "      <td>1</td>\n",
       "      <td>0</td>\n",
       "      <td>0</td>\n",
       "      <td>11</td>\n",
       "      <td>3</td>\n",
       "      <td>6</td>\n",
       "    </tr>\n",
       "    <tr>\n",
       "      <th>4</th>\n",
       "      <td>0</td>\n",
       "      <td>1</td>\n",
       "      <td>1</td>\n",
       "      <td>1</td>\n",
       "      <td>24</td>\n",
       "      <td>0</td>\n",
       "      <td>0</td>\n",
       "      <td>1</td>\n",
       "      <td>0</td>\n",
       "      <td>0</td>\n",
       "      <td>11</td>\n",
       "      <td>5</td>\n",
       "      <td>4</td>\n",
       "    </tr>\n",
       "    <tr>\n",
       "      <th>5</th>\n",
       "      <td>0</td>\n",
       "      <td>1</td>\n",
       "      <td>1</td>\n",
       "      <td>1</td>\n",
       "      <td>25</td>\n",
       "      <td>1</td>\n",
       "      <td>0</td>\n",
       "      <td>1</td>\n",
       "      <td>0</td>\n",
       "      <td>1</td>\n",
       "      <td>10</td>\n",
       "      <td>6</td>\n",
       "      <td>8</td>\n",
       "    </tr>\n",
       "    <tr>\n",
       "      <th>6</th>\n",
       "      <td>0</td>\n",
       "      <td>1</td>\n",
       "      <td>0</td>\n",
       "      <td>1</td>\n",
       "      <td>30</td>\n",
       "      <td>1</td>\n",
       "      <td>0</td>\n",
       "      <td>0</td>\n",
       "      <td>0</td>\n",
       "      <td>0</td>\n",
       "      <td>9</td>\n",
       "      <td>6</td>\n",
       "      <td>7</td>\n",
       "    </tr>\n",
       "    <tr>\n",
       "      <th>7</th>\n",
       "      <td>0</td>\n",
       "      <td>1</td>\n",
       "      <td>1</td>\n",
       "      <td>1</td>\n",
       "      <td>25</td>\n",
       "      <td>1</td>\n",
       "      <td>0</td>\n",
       "      <td>0</td>\n",
       "      <td>0</td>\n",
       "      <td>0</td>\n",
       "      <td>11</td>\n",
       "      <td>4</td>\n",
       "      <td>4</td>\n",
       "    </tr>\n",
       "    <tr>\n",
       "      <th>8</th>\n",
       "      <td>1</td>\n",
       "      <td>1</td>\n",
       "      <td>1</td>\n",
       "      <td>1</td>\n",
       "      <td>30</td>\n",
       "      <td>1</td>\n",
       "      <td>0</td>\n",
       "      <td>1</td>\n",
       "      <td>0</td>\n",
       "      <td>0</td>\n",
       "      <td>9</td>\n",
       "      <td>5</td>\n",
       "      <td>1</td>\n",
       "    </tr>\n",
       "    <tr>\n",
       "      <th>9</th>\n",
       "      <td>0</td>\n",
       "      <td>0</td>\n",
       "      <td>0</td>\n",
       "      <td>1</td>\n",
       "      <td>24</td>\n",
       "      <td>0</td>\n",
       "      <td>0</td>\n",
       "      <td>0</td>\n",
       "      <td>0</td>\n",
       "      <td>1</td>\n",
       "      <td>8</td>\n",
       "      <td>4</td>\n",
       "      <td>3</td>\n",
       "    </tr>\n",
       "  </tbody>\n",
       "</table>\n",
       "</div>"
      ],
      "text/plain": [
       "   HeartDisease  HighBP  HighChol  CholCheck  BMI  Smoker  Stroke  \\\n",
       "0             0       1         1          1   40       1       0   \n",
       "1             0       0         0          0   25       1       0   \n",
       "2             0       1         1          1   28       0       0   \n",
       "3             0       1         0          1   27       0       0   \n",
       "4             0       1         1          1   24       0       0   \n",
       "5             0       1         1          1   25       1       0   \n",
       "6             0       1         0          1   30       1       0   \n",
       "7             0       1         1          1   25       1       0   \n",
       "8             1       1         1          1   30       1       0   \n",
       "9             0       0         0          1   24       0       0   \n",
       "\n",
       "   HealthyEatingHabits  HvyAlcoholConsump  Gender  Age  Education  Income  \n",
       "0                    0                  0       0    9          4       3  \n",
       "1                    0                  0       0    7          6       1  \n",
       "2                    1                  0       0    9          4       8  \n",
       "3                    1                  0       0   11          3       6  \n",
       "4                    1                  0       0   11          5       4  \n",
       "5                    1                  0       1   10          6       8  \n",
       "6                    0                  0       0    9          6       7  \n",
       "7                    0                  0       0   11          4       4  \n",
       "8                    1                  0       0    9          5       1  \n",
       "9                    0                  0       1    8          4       3  "
      ]
     },
     "execution_count": 3,
     "metadata": {},
     "output_type": "execute_result"
    }
   ],
   "source": [
    "#view dataset\n",
    "heart.head(10)"
   ]
  },
  {
   "cell_type": "code",
   "execution_count": 4,
   "metadata": {},
   "outputs": [
    {
     "name": "stdout",
     "output_type": "stream",
     "text": [
      "<class 'pandas.core.frame.DataFrame'>\n",
      "RangeIndex: 253680 entries, 0 to 253679\n",
      "Data columns (total 13 columns):\n",
      " #   Column               Non-Null Count   Dtype\n",
      "---  ------               --------------   -----\n",
      " 0   HeartDisease         253680 non-null  int64\n",
      " 1   HighBP               253680 non-null  int64\n",
      " 2   HighChol             253680 non-null  int64\n",
      " 3   CholCheck            253680 non-null  int64\n",
      " 4   BMI                  253680 non-null  int64\n",
      " 5   Smoker               253680 non-null  int64\n",
      " 6   Stroke               253680 non-null  int64\n",
      " 7   HealthyEatingHabits  253680 non-null  int64\n",
      " 8   HvyAlcoholConsump    253680 non-null  int64\n",
      " 9   Gender               253680 non-null  int64\n",
      " 10  Age                  253680 non-null  int64\n",
      " 11  Education            253680 non-null  int64\n",
      " 12  Income               253680 non-null  int64\n",
      "dtypes: int64(13)\n",
      "memory usage: 25.2 MB\n"
     ]
    }
   ],
   "source": [
    "heart.info()"
   ]
  },
  {
   "cell_type": "code",
   "execution_count": 5,
   "metadata": {},
   "outputs": [],
   "source": [
    "df = heart.copy()"
   ]
  },
  {
   "cell_type": "code",
   "execution_count": 6,
   "metadata": {},
   "outputs": [
    {
     "name": "stdout",
     "output_type": "stream",
     "text": [
      "Income                -0.141011\n",
      "Education             -0.099600\n",
      "HvyAlcoholConsump     -0.028991\n",
      "HealthyEatingHabits   -0.019790\n",
      "CholCheck              0.044206\n",
      "BMI                    0.052904\n",
      "Gender                 0.086096\n",
      "Smoker                 0.114441\n",
      "HighChol               0.180765\n",
      "Stroke                 0.203002\n",
      "HighBP                 0.209361\n",
      "Age                    0.221618\n",
      "dtype: float64\n"
     ]
    }
   ],
   "source": [
    "importances = df.drop(\"HeartDisease\", axis=1).apply(lambda x: x.corr(df.HeartDisease))\n",
    "indices = np.argsort(importances)\n",
    "print(importances[indices])"
   ]
  },
  {
   "cell_type": "code",
   "execution_count": 7,
   "metadata": {},
   "outputs": [],
   "source": [
    "def find_correlations(X):\n",
    "    for i in range(0,len(X.columns)):\n",
    "        for j in  range(0,len(X.columns)):\n",
    "            if i!=j:\n",
    "                corr_1=np.abs(X[X.columns[i]].corr(X[X.columns[j]]))\n",
    "                if corr_1 <0.2:\n",
    "                    print( X.columns[i] , \" is not correlated  with \", X.columns[j])\n",
    "                elif corr_1>=0.2:\n",
    "                    print( X.columns[i] , \" is correlated  with \", X.columns[j])\n",
    "                "
   ]
  },
  {
   "cell_type": "code",
   "execution_count": 8,
   "metadata": {},
   "outputs": [
    {
     "name": "stdout",
     "output_type": "stream",
     "text": [
      "Age  is correlated  with  HighBP\n",
      "Age  is not correlated  with  Stroke\n",
      "Age  is correlated  with  HighChol\n",
      "Age  is not correlated  with  Smoker\n",
      "Age  is not correlated  with  Gender\n",
      "Age  is not correlated  with  BMI\n",
      "Age  is not correlated  with  CholCheck\n",
      "HighBP  is correlated  with  Age\n",
      "HighBP  is not correlated  with  Stroke\n",
      "HighBP  is correlated  with  HighChol\n",
      "HighBP  is not correlated  with  Smoker\n",
      "HighBP  is not correlated  with  Gender\n",
      "HighBP  is correlated  with  BMI\n",
      "HighBP  is not correlated  with  CholCheck\n",
      "Stroke  is not correlated  with  Age\n",
      "Stroke  is not correlated  with  HighBP\n",
      "Stroke  is not correlated  with  HighChol\n",
      "Stroke  is not correlated  with  Smoker\n",
      "Stroke  is not correlated  with  Gender\n",
      "Stroke  is not correlated  with  BMI\n",
      "Stroke  is not correlated  with  CholCheck\n",
      "HighChol  is correlated  with  Age\n",
      "HighChol  is correlated  with  HighBP\n",
      "HighChol  is not correlated  with  Stroke\n",
      "HighChol  is not correlated  with  Smoker\n",
      "HighChol  is not correlated  with  Gender\n",
      "HighChol  is not correlated  with  BMI\n",
      "HighChol  is not correlated  with  CholCheck\n",
      "Smoker  is not correlated  with  Age\n",
      "Smoker  is not correlated  with  HighBP\n",
      "Smoker  is not correlated  with  Stroke\n",
      "Smoker  is not correlated  with  HighChol\n",
      "Smoker  is not correlated  with  Gender\n",
      "Smoker  is not correlated  with  BMI\n",
      "Smoker  is not correlated  with  CholCheck\n",
      "Gender  is not correlated  with  Age\n",
      "Gender  is not correlated  with  HighBP\n",
      "Gender  is not correlated  with  Stroke\n",
      "Gender  is not correlated  with  HighChol\n",
      "Gender  is not correlated  with  Smoker\n",
      "Gender  is not correlated  with  BMI\n",
      "Gender  is not correlated  with  CholCheck\n",
      "BMI  is not correlated  with  Age\n",
      "BMI  is correlated  with  HighBP\n",
      "BMI  is not correlated  with  Stroke\n",
      "BMI  is not correlated  with  HighChol\n",
      "BMI  is not correlated  with  Smoker\n",
      "BMI  is not correlated  with  Gender\n",
      "BMI  is not correlated  with  CholCheck\n",
      "CholCheck  is not correlated  with  Age\n",
      "CholCheck  is not correlated  with  HighBP\n",
      "CholCheck  is not correlated  with  Stroke\n",
      "CholCheck  is not correlated  with  HighChol\n",
      "CholCheck  is not correlated  with  Smoker\n",
      "CholCheck  is not correlated  with  Gender\n",
      "CholCheck  is not correlated  with  BMI\n"
     ]
    }
   ],
   "source": [
    "#Finding independant features\n",
    "X= df[['Age','HighBP','Stroke','HighChol','Smoker','Gender','BMI','CholCheck']]\n",
    "find_correlations(X)"
   ]
  },
  {
   "cell_type": "markdown",
   "metadata": {},
   "source": [
    "Selected features : Age, Stroke, Smoker, Gender and BMI."
   ]
  },
  {
   "cell_type": "code",
   "execution_count": 9,
   "metadata": {},
   "outputs": [],
   "source": [
    "heartArr = np.array([\"Age\",\"Stroke\",\"Smoker\",\"Gender\",\"BMI\"])"
   ]
  },
  {
   "cell_type": "code",
   "execution_count": 10,
   "metadata": {},
   "outputs": [
    {
     "data": {
      "image/png": "[encoded data removed]",
      "text/plain": [
       "<Figure size 640x480 with 1 Axes>"
      ]
     },
     "metadata": {},
     "output_type": "display_data"
    }
   ],
   "source": [
    "data = heart[[\"HeartDisease\",\"Age\",\"Stroke\",\"Smoker\",\"Gender\",\"BMI\"]]\n",
    "corr = data.corr()\n",
    "\n",
    "ax1 = sns.heatmap(corr, cbar=0, linewidths=2,vmax=1, vmin=0, square=True, cmap='Blues')\n",
    "mp.show()"
   ]
  },
  {
   "cell_type": "code",
   "execution_count": 11,
   "metadata": {},
   "outputs": [
    {
     "name": "stderr",
     "output_type": "stream",
     "text": [
      "Summarize dataset:   0%|          | 0/5 [00:00<?, ?it/s]c:\\Users\\sneha\\OneDrive\\Desktop\\Predict-health-insurance-amount\\venv\\lib\\site-packages\\multimethod\\__init__.py:315: FutureWarning: iteritems is deprecated and will be removed in a future version. Use .items instead.\n",
      "  return func(*args, **kwargs)\n",
      "Summarize dataset:  68%|██████▊   | 17/25 [00:39<00:10,  1.31s/it, Calculate kendall correlation]       c:\\Users\\sneha\\OneDrive\\Desktop\\Predict-health-insurance-amount\\venv\\lib\\site-packages\\scipy\\stats\\_stats_py.py:5218: RuntimeWarning: overflow encountered in longlong_scalars\n",
      "  (2 * xtie * ytie) / m + x0 * y0 / (9 * m * (size - 2)))\n",
      "Summarize dataset: 100%|██████████| 43/43 [01:21<00:00,  1.90s/it, Completed]                    \n",
      "Generate report structure: 100%|██████████| 1/1 [00:13<00:00, 13.14s/it]\n",
      "Render HTML: 100%|██████████| 1/1 [00:03<00:00,  3.09s/it]\n",
      "Export report to file: 100%|██████████| 1/1 [00:00<00:00, 45.45it/s]\n"
     ]
    }
   ],
   "source": [
    "#Report\n",
    "report1 = pp.ProfileReport(df)\n",
    "\n",
    "#Save the report in HTML format.\n",
    "report1.to_file(\"..\\Report\\Heart.html\")"
   ]
  },
  {
   "cell_type": "markdown",
   "metadata": {},
   "source": [
    "### Analysis of Diabetes Indicators dataset"
   ]
  },
  {
   "cell_type": "code",
   "execution_count": 12,
   "metadata": {},
   "outputs": [
    {
     "data": {
      "text/html": [
       "<div>\n",
       "<style scoped>\n",
       "    .dataframe tbody tr th:only-of-type {\n",
       "        vertical-align: middle;\n",
       "    }\n",
       "\n",
       "    .dataframe tbody tr th {\n",
       "        vertical-align: top;\n",
       "    }\n",
       "\n",
       "    .dataframe thead th {\n",
       "        text-align: right;\n",
       "    }\n",
       "</style>\n",
       "<table border=\"1\" class=\"dataframe\">\n",
       "  <thead>\n",
       "    <tr style=\"text-align: right;\">\n",
       "      <th></th>\n",
       "      <th>diabetes</th>\n",
       "      <th>HighBP</th>\n",
       "      <th>HighChol</th>\n",
       "      <th>CholCheck</th>\n",
       "      <th>BMI</th>\n",
       "      <th>Smoker</th>\n",
       "      <th>HealthyEatingHabits</th>\n",
       "      <th>HvyAlcoholConsump</th>\n",
       "      <th>Gender</th>\n",
       "      <th>Age</th>\n",
       "      <th>Education</th>\n",
       "      <th>Income</th>\n",
       "    </tr>\n",
       "  </thead>\n",
       "  <tbody>\n",
       "    <tr>\n",
       "      <th>0</th>\n",
       "      <td>0</td>\n",
       "      <td>1</td>\n",
       "      <td>1</td>\n",
       "      <td>1</td>\n",
       "      <td>40</td>\n",
       "      <td>1</td>\n",
       "      <td>0</td>\n",
       "      <td>0</td>\n",
       "      <td>0</td>\n",
       "      <td>9</td>\n",
       "      <td>4</td>\n",
       "      <td>3</td>\n",
       "    </tr>\n",
       "    <tr>\n",
       "      <th>1</th>\n",
       "      <td>0</td>\n",
       "      <td>0</td>\n",
       "      <td>0</td>\n",
       "      <td>0</td>\n",
       "      <td>25</td>\n",
       "      <td>1</td>\n",
       "      <td>0</td>\n",
       "      <td>0</td>\n",
       "      <td>0</td>\n",
       "      <td>7</td>\n",
       "      <td>6</td>\n",
       "      <td>1</td>\n",
       "    </tr>\n",
       "    <tr>\n",
       "      <th>2</th>\n",
       "      <td>0</td>\n",
       "      <td>1</td>\n",
       "      <td>1</td>\n",
       "      <td>1</td>\n",
       "      <td>28</td>\n",
       "      <td>0</td>\n",
       "      <td>1</td>\n",
       "      <td>0</td>\n",
       "      <td>0</td>\n",
       "      <td>9</td>\n",
       "      <td>4</td>\n",
       "      <td>8</td>\n",
       "    </tr>\n",
       "    <tr>\n",
       "      <th>3</th>\n",
       "      <td>0</td>\n",
       "      <td>1</td>\n",
       "      <td>0</td>\n",
       "      <td>1</td>\n",
       "      <td>27</td>\n",
       "      <td>0</td>\n",
       "      <td>1</td>\n",
       "      <td>0</td>\n",
       "      <td>0</td>\n",
       "      <td>11</td>\n",
       "      <td>3</td>\n",
       "      <td>6</td>\n",
       "    </tr>\n",
       "    <tr>\n",
       "      <th>4</th>\n",
       "      <td>0</td>\n",
       "      <td>1</td>\n",
       "      <td>1</td>\n",
       "      <td>1</td>\n",
       "      <td>24</td>\n",
       "      <td>0</td>\n",
       "      <td>1</td>\n",
       "      <td>0</td>\n",
       "      <td>0</td>\n",
       "      <td>11</td>\n",
       "      <td>5</td>\n",
       "      <td>4</td>\n",
       "    </tr>\n",
       "    <tr>\n",
       "      <th>5</th>\n",
       "      <td>0</td>\n",
       "      <td>1</td>\n",
       "      <td>1</td>\n",
       "      <td>1</td>\n",
       "      <td>25</td>\n",
       "      <td>1</td>\n",
       "      <td>1</td>\n",
       "      <td>0</td>\n",
       "      <td>1</td>\n",
       "      <td>10</td>\n",
       "      <td>6</td>\n",
       "      <td>8</td>\n",
       "    </tr>\n",
       "    <tr>\n",
       "      <th>6</th>\n",
       "      <td>0</td>\n",
       "      <td>1</td>\n",
       "      <td>0</td>\n",
       "      <td>1</td>\n",
       "      <td>30</td>\n",
       "      <td>1</td>\n",
       "      <td>0</td>\n",
       "      <td>0</td>\n",
       "      <td>0</td>\n",
       "      <td>9</td>\n",
       "      <td>6</td>\n",
       "      <td>7</td>\n",
       "    </tr>\n",
       "    <tr>\n",
       "      <th>7</th>\n",
       "      <td>0</td>\n",
       "      <td>1</td>\n",
       "      <td>1</td>\n",
       "      <td>1</td>\n",
       "      <td>25</td>\n",
       "      <td>1</td>\n",
       "      <td>0</td>\n",
       "      <td>0</td>\n",
       "      <td>0</td>\n",
       "      <td>11</td>\n",
       "      <td>4</td>\n",
       "      <td>4</td>\n",
       "    </tr>\n",
       "    <tr>\n",
       "      <th>8</th>\n",
       "      <td>2</td>\n",
       "      <td>1</td>\n",
       "      <td>1</td>\n",
       "      <td>1</td>\n",
       "      <td>30</td>\n",
       "      <td>1</td>\n",
       "      <td>1</td>\n",
       "      <td>0</td>\n",
       "      <td>0</td>\n",
       "      <td>9</td>\n",
       "      <td>5</td>\n",
       "      <td>1</td>\n",
       "    </tr>\n",
       "    <tr>\n",
       "      <th>9</th>\n",
       "      <td>0</td>\n",
       "      <td>0</td>\n",
       "      <td>0</td>\n",
       "      <td>1</td>\n",
       "      <td>24</td>\n",
       "      <td>0</td>\n",
       "      <td>0</td>\n",
       "      <td>0</td>\n",
       "      <td>1</td>\n",
       "      <td>8</td>\n",
       "      <td>4</td>\n",
       "      <td>3</td>\n",
       "    </tr>\n",
       "  </tbody>\n",
       "</table>\n",
       "</div>"
      ],
      "text/plain": [
       "   diabetes  HighBP  HighChol  CholCheck  BMI  Smoker  HealthyEatingHabits  \\\n",
       "0         0       1         1          1   40       1                    0   \n",
       "1         0       0         0          0   25       1                    0   \n",
       "2         0       1         1          1   28       0                    1   \n",
       "3         0       1         0          1   27       0                    1   \n",
       "4         0       1         1          1   24       0                    1   \n",
       "5         0       1         1          1   25       1                    1   \n",
       "6         0       1         0          1   30       1                    0   \n",
       "7         0       1         1          1   25       1                    0   \n",
       "8         2       1         1          1   30       1                    1   \n",
       "9         0       0         0          1   24       0                    0   \n",
       "\n",
       "   HvyAlcoholConsump  Gender  Age  Education  Income  \n",
       "0                  0       0    9          4       3  \n",
       "1                  0       0    7          6       1  \n",
       "2                  0       0    9          4       8  \n",
       "3                  0       0   11          3       6  \n",
       "4                  0       0   11          5       4  \n",
       "5                  0       1   10          6       8  \n",
       "6                  0       0    9          6       7  \n",
       "7                  0       0   11          4       4  \n",
       "8                  0       0    9          5       1  \n",
       "9                  0       1    8          4       3  "
      ]
     },
     "execution_count": 12,
     "metadata": {},
     "output_type": "execute_result"
    }
   ],
   "source": [
    "#Read dataset\n",
    "diab.head(10)"
   ]
  },
  {
   "cell_type": "code",
   "execution_count": 13,
   "metadata": {},
   "outputs": [
    {
     "name": "stdout",
     "output_type": "stream",
     "text": [
      "<class 'pandas.core.frame.DataFrame'>\n",
      "RangeIndex: 253680 entries, 0 to 253679\n",
      "Data columns (total 12 columns):\n",
      " #   Column               Non-Null Count   Dtype\n",
      "---  ------               --------------   -----\n",
      " 0   diabetes             253680 non-null  int64\n",
      " 1   HighBP               253680 non-null  int64\n",
      " 2   HighChol             253680 non-null  int64\n",
      " 3   CholCheck            253680 non-null  int64\n",
      " 4   BMI                  253680 non-null  int64\n",
      " 5   Smoker               253680 non-null  int64\n",
      " 6   HealthyEatingHabits  253680 non-null  int64\n",
      " 7   HvyAlcoholConsump    253680 non-null  int64\n",
      " 8   Gender               253680 non-null  int64\n",
      " 9   Age                  253680 non-null  int64\n",
      " 10  Education            253680 non-null  int64\n",
      " 11  Income               253680 non-null  int64\n",
      "dtypes: int64(12)\n",
      "memory usage: 23.2 MB\n"
     ]
    }
   ],
   "source": [
    "diab.info()"
   ]
  },
  {
   "cell_type": "code",
   "execution_count": 14,
   "metadata": {},
   "outputs": [],
   "source": [
    "df1 = diab.copy()"
   ]
  },
  {
   "cell_type": "code",
   "execution_count": 15,
   "metadata": {},
   "outputs": [
    {
     "name": "stdout",
     "output_type": "stream",
     "text": [
      "Income                -0.171483\n",
      "Education             -0.130517\n",
      "HvyAlcoholConsump     -0.057882\n",
      "HealthyEatingHabits   -0.042192\n",
      "Gender                 0.031040\n",
      "Smoker                 0.062914\n",
      "CholCheck              0.067546\n",
      "Age                    0.185026\n",
      "HighChol               0.209085\n",
      "BMI                    0.224379\n",
      "HighBP                 0.271596\n",
      "dtype: float64\n"
     ]
    }
   ],
   "source": [
    "importances = df1.drop(\"diabetes\", axis=1).apply(lambda x: x.corr(diab.diabetes))\n",
    "indices = np.argsort(importances)\n",
    "print(importances[indices])"
   ]
  },
  {
   "cell_type": "code",
   "execution_count": 16,
   "metadata": {},
   "outputs": [
    {
     "name": "stdout",
     "output_type": "stream",
     "text": [
      "Age  is correlated  with  HighBP\n",
      "Age  is not correlated  with  BMI\n",
      "Age  is correlated  with  HighChol\n",
      "Age  is not correlated  with  CholCheck\n",
      "Age  is not correlated  with  Smoker\n",
      "Age  is not correlated  with  Gender\n",
      "HighBP  is correlated  with  Age\n",
      "HighBP  is correlated  with  BMI\n",
      "HighBP  is correlated  with  HighChol\n",
      "HighBP  is not correlated  with  CholCheck\n",
      "HighBP  is not correlated  with  Smoker\n",
      "HighBP  is not correlated  with  Gender\n",
      "BMI  is not correlated  with  Age\n",
      "BMI  is correlated  with  HighBP\n",
      "BMI  is not correlated  with  HighChol\n",
      "BMI  is not correlated  with  CholCheck\n",
      "BMI  is not correlated  with  Smoker\n",
      "BMI  is not correlated  with  Gender\n",
      "HighChol  is correlated  with  Age\n",
      "HighChol  is correlated  with  HighBP\n",
      "HighChol  is not correlated  with  BMI\n",
      "HighChol  is not correlated  with  CholCheck\n",
      "HighChol  is not correlated  with  Smoker\n",
      "HighChol  is not correlated  with  Gender\n",
      "CholCheck  is not correlated  with  Age\n",
      "CholCheck  is not correlated  with  HighBP\n",
      "CholCheck  is not correlated  with  BMI\n",
      "CholCheck  is not correlated  with  HighChol\n",
      "CholCheck  is not correlated  with  Smoker\n",
      "CholCheck  is not correlated  with  Gender\n",
      "Smoker  is not correlated  with  Age\n",
      "Smoker  is not correlated  with  HighBP\n",
      "Smoker  is not correlated  with  BMI\n",
      "Smoker  is not correlated  with  HighChol\n",
      "Smoker  is not correlated  with  CholCheck\n",
      "Smoker  is not correlated  with  Gender\n",
      "Gender  is not correlated  with  Age\n",
      "Gender  is not correlated  with  HighBP\n",
      "Gender  is not correlated  with  BMI\n",
      "Gender  is not correlated  with  HighChol\n",
      "Gender  is not correlated  with  CholCheck\n",
      "Gender  is not correlated  with  Smoker\n"
     ]
    }
   ],
   "source": [
    "df2 = df1[[\"Age\",\"HighBP\",\"BMI\",\"HighChol\",\"CholCheck\",\"Smoker\",\"Gender\"]]\n",
    "find_correlations(df2)"
   ]
  },
  {
   "cell_type": "markdown",
   "metadata": {},
   "source": [
    "Selected features : Age, BMI, Cholcheck, Smoker, Gender"
   ]
  },
  {
   "cell_type": "code",
   "execution_count": 17,
   "metadata": {},
   "outputs": [],
   "source": [
    "diabArr = np.array([\"Age\",\"BMI\",\"Cholcheck\",\"Smoker\",\"Gender\"])"
   ]
  },
  {
   "cell_type": "code",
   "execution_count": 18,
   "metadata": {},
   "outputs": [],
   "source": [
    "data = df1[[\"diabetes\",\"Age\",\"BMI\",\"CholCheck\",\"Smoker\",\"Gender\"]]\n",
    "corr = data.corr()"
   ]
  },
  {
   "cell_type": "code",
   "execution_count": 19,
   "metadata": {},
   "outputs": [
    {
     "data": {
      "image/png": "[encoded data removed]",
      "text/plain": [
       "<Figure size 640x480 with 1 Axes>"
      ]
     },
     "metadata": {},
     "output_type": "display_data"
    }
   ],
   "source": [
    "ax1 = sns.heatmap(corr, cbar=0, linewidths=2,vmax=1, vmin=0, square=True, cmap='Blues')\n",
    "mp.show()"
   ]
  },
  {
   "cell_type": "code",
   "execution_count": 20,
   "metadata": {},
   "outputs": [
    {
     "name": "stderr",
     "output_type": "stream",
     "text": [
      "Summarize dataset:   0%|          | 0/5 [00:00<?, ?it/s]c:\\Users\\sneha\\OneDrive\\Desktop\\Predict-health-insurance-amount\\venv\\lib\\site-packages\\multimethod\\__init__.py:315: FutureWarning: iteritems is deprecated and will be removed in a future version. Use .items instead.\n",
      "  return func(*args, **kwargs)\n",
      "Summarize dataset:  67%|██████▋   | 16/24 [00:32<00:10,  1.26s/it, Calculate kendall correlation]       c:\\Users\\sneha\\OneDrive\\Desktop\\Predict-health-insurance-amount\\venv\\lib\\site-packages\\scipy\\stats\\_stats_py.py:5218: RuntimeWarning: overflow encountered in longlong_scalars\n",
      "  (2 * xtie * ytie) / m + x0 * y0 / (9 * m * (size - 2)))\n",
      "Summarize dataset: 100%|██████████| 42/42 [01:01<00:00,  1.46s/it, Completed]                    \n",
      "Generate report structure: 100%|██████████| 1/1 [00:12<00:00, 12.75s/it]\n",
      "Render HTML: 100%|██████████| 1/1 [00:03<00:00,  3.12s/it]\n",
      "Export report to file: 100%|██████████| 1/1 [00:00<00:00, 58.47it/s]\n"
     ]
    }
   ],
   "source": [
    "#Report\n",
    "report1 = pp.ProfileReport(df1)\n",
    "\n",
    "#Save the report in HTML format.\n",
    "report1.to_file(\"..\\Report\\Diabetes.html\")"
   ]
  },
  {
   "cell_type": "markdown",
   "metadata": {},
   "source": [
    "### Analysis of Cancer Indicators dataset"
   ]
  },
  {
   "cell_type": "code",
   "execution_count": 21,
   "metadata": {},
   "outputs": [
    {
     "data": {
      "text/html": [
       "<div>\n",
       "<style scoped>\n",
       "    .dataframe tbody tr th:only-of-type {\n",
       "        vertical-align: middle;\n",
       "    }\n",
       "\n",
       "    .dataframe tbody tr th {\n",
       "        vertical-align: top;\n",
       "    }\n",
       "\n",
       "    .dataframe thead th {\n",
       "        text-align: right;\n",
       "    }\n",
       "</style>\n",
       "<table border=\"1\" class=\"dataframe\">\n",
       "  <thead>\n",
       "    <tr style=\"text-align: right;\">\n",
       "      <th></th>\n",
       "      <th>cancer</th>\n",
       "      <th>genetic</th>\n",
       "      <th>Gender</th>\n",
       "      <th>Age</th>\n",
       "      <th>Education</th>\n",
       "      <th>BMI</th>\n",
       "      <th>Alcoholic</th>\n",
       "      <th>Smoker</th>\n",
       "      <th>Marital</th>\n",
       "    </tr>\n",
       "  </thead>\n",
       "  <tbody>\n",
       "    <tr>\n",
       "      <th>0</th>\n",
       "      <td>1.0</td>\n",
       "      <td>1.0</td>\n",
       "      <td>2</td>\n",
       "      <td>2.0</td>\n",
       "      <td>6.0</td>\n",
       "      <td>1.0</td>\n",
       "      <td>1</td>\n",
       "      <td>2</td>\n",
       "      <td>1</td>\n",
       "    </tr>\n",
       "    <tr>\n",
       "      <th>1</th>\n",
       "      <td>2.0</td>\n",
       "      <td>2.0</td>\n",
       "      <td>2</td>\n",
       "      <td>3.0</td>\n",
       "      <td>6.0</td>\n",
       "      <td>3.0</td>\n",
       "      <td>9</td>\n",
       "      <td>9</td>\n",
       "      <td>2</td>\n",
       "    </tr>\n",
       "    <tr>\n",
       "      <th>2</th>\n",
       "      <td>2.0</td>\n",
       "      <td>1.0</td>\n",
       "      <td>2</td>\n",
       "      <td>1.0</td>\n",
       "      <td>5.0</td>\n",
       "      <td>NaN</td>\n",
       "      <td>4</td>\n",
       "      <td>2</td>\n",
       "      <td>2</td>\n",
       "    </tr>\n",
       "    <tr>\n",
       "      <th>3</th>\n",
       "      <td>2.0</td>\n",
       "      <td>2.0</td>\n",
       "      <td>2</td>\n",
       "      <td>3.0</td>\n",
       "      <td>4.0</td>\n",
       "      <td>NaN</td>\n",
       "      <td>4</td>\n",
       "      <td>2</td>\n",
       "      <td>2</td>\n",
       "    </tr>\n",
       "    <tr>\n",
       "      <th>4</th>\n",
       "      <td>2.0</td>\n",
       "      <td>2.0</td>\n",
       "      <td>2</td>\n",
       "      <td>3.0</td>\n",
       "      <td>6.0</td>\n",
       "      <td>2.0</td>\n",
       "      <td>4</td>\n",
       "      <td>2</td>\n",
       "      <td>2</td>\n",
       "    </tr>\n",
       "    <tr>\n",
       "      <th>5</th>\n",
       "      <td>2.0</td>\n",
       "      <td>2.0</td>\n",
       "      <td>1</td>\n",
       "      <td>4.0</td>\n",
       "      <td>4.0</td>\n",
       "      <td>3.0</td>\n",
       "      <td>3</td>\n",
       "      <td>2</td>\n",
       "      <td>2</td>\n",
       "    </tr>\n",
       "    <tr>\n",
       "      <th>6</th>\n",
       "      <td>1.0</td>\n",
       "      <td>1.0</td>\n",
       "      <td>2</td>\n",
       "      <td>1.0</td>\n",
       "      <td>4.0</td>\n",
       "      <td>2.0</td>\n",
       "      <td>4</td>\n",
       "      <td>2</td>\n",
       "      <td>2</td>\n",
       "    </tr>\n",
       "    <tr>\n",
       "      <th>7</th>\n",
       "      <td>2.0</td>\n",
       "      <td>1.0</td>\n",
       "      <td>2</td>\n",
       "      <td>1.0</td>\n",
       "      <td>4.0</td>\n",
       "      <td>3.0</td>\n",
       "      <td>1</td>\n",
       "      <td>9</td>\n",
       "      <td>2</td>\n",
       "    </tr>\n",
       "    <tr>\n",
       "      <th>8</th>\n",
       "      <td>2.0</td>\n",
       "      <td>2.0</td>\n",
       "      <td>2</td>\n",
       "      <td>2.0</td>\n",
       "      <td>6.0</td>\n",
       "      <td>2.0</td>\n",
       "      <td>4</td>\n",
       "      <td>2</td>\n",
       "      <td>1</td>\n",
       "    </tr>\n",
       "    <tr>\n",
       "      <th>9</th>\n",
       "      <td>2.0</td>\n",
       "      <td>2.0</td>\n",
       "      <td>2</td>\n",
       "      <td>3.0</td>\n",
       "      <td>2.0</td>\n",
       "      <td>3.0</td>\n",
       "      <td>3</td>\n",
       "      <td>2</td>\n",
       "      <td>2</td>\n",
       "    </tr>\n",
       "  </tbody>\n",
       "</table>\n",
       "</div>"
      ],
      "text/plain": [
       "   cancer  genetic  Gender  Age  Education  BMI  Alcoholic  Smoker  Marital\n",
       "0     1.0      1.0       2  2.0        6.0  1.0          1       2        1\n",
       "1     2.0      2.0       2  3.0        6.0  3.0          9       9        2\n",
       "2     2.0      1.0       2  1.0        5.0  NaN          4       2        2\n",
       "3     2.0      2.0       2  3.0        4.0  NaN          4       2        2\n",
       "4     2.0      2.0       2  3.0        6.0  2.0          4       2        2\n",
       "5     2.0      2.0       1  4.0        4.0  3.0          3       2        2\n",
       "6     1.0      1.0       2  1.0        4.0  2.0          4       2        2\n",
       "7     2.0      1.0       2  1.0        4.0  3.0          1       9        2\n",
       "8     2.0      2.0       2  2.0        6.0  2.0          4       2        1\n",
       "9     2.0      2.0       2  3.0        2.0  3.0          3       2        2"
      ]
     },
     "execution_count": 21,
     "metadata": {},
     "output_type": "execute_result"
    }
   ],
   "source": [
    "cancer.head(10)"
   ]
  },
  {
   "cell_type": "code",
   "execution_count": 22,
   "metadata": {},
   "outputs": [
    {
     "name": "stdout",
     "output_type": "stream",
     "text": [
      "<class 'pandas.core.frame.DataFrame'>\n",
      "RangeIndex: 401958 entries, 0 to 401957\n",
      "Data columns (total 9 columns):\n",
      " #   Column     Non-Null Count   Dtype  \n",
      "---  ------     --------------   -----  \n",
      " 0   cancer     401955 non-null  float64\n",
      " 1   genetic    401955 non-null  float64\n",
      " 2   Gender     401958 non-null  int64  \n",
      " 3   Age        401946 non-null  float64\n",
      " 4   Education  401946 non-null  float64\n",
      " 5   BMI        360601 non-null  float64\n",
      " 6   Alcoholic  401958 non-null  int64  \n",
      " 7   Smoker     401958 non-null  int64  \n",
      " 8   Marital    401958 non-null  int64  \n",
      "dtypes: float64(5), int64(4)\n",
      "memory usage: 27.6 MB\n"
     ]
    }
   ],
   "source": [
    "cancer.info()"
   ]
  },
  {
   "cell_type": "code",
   "execution_count": 23,
   "metadata": {},
   "outputs": [
    {
     "data": {
      "text/html": [
       "<div>\n",
       "<style scoped>\n",
       "    .dataframe tbody tr th:only-of-type {\n",
       "        vertical-align: middle;\n",
       "    }\n",
       "\n",
       "    .dataframe tbody tr th {\n",
       "        vertical-align: top;\n",
       "    }\n",
       "\n",
       "    .dataframe thead th {\n",
       "        text-align: right;\n",
       "    }\n",
       "</style>\n",
       "<table border=\"1\" class=\"dataframe\">\n",
       "  <thead>\n",
       "    <tr style=\"text-align: right;\">\n",
       "      <th></th>\n",
       "      <th>column_name</th>\n",
       "      <th>percent_missing</th>\n",
       "    </tr>\n",
       "  </thead>\n",
       "  <tbody>\n",
       "    <tr>\n",
       "      <th>cancer</th>\n",
       "      <td>cancer</td>\n",
       "      <td>0.000746</td>\n",
       "    </tr>\n",
       "    <tr>\n",
       "      <th>genetic</th>\n",
       "      <td>genetic</td>\n",
       "      <td>0.000746</td>\n",
       "    </tr>\n",
       "    <tr>\n",
       "      <th>Gender</th>\n",
       "      <td>Gender</td>\n",
       "      <td>0.000000</td>\n",
       "    </tr>\n",
       "    <tr>\n",
       "      <th>Age</th>\n",
       "      <td>Age</td>\n",
       "      <td>0.002985</td>\n",
       "    </tr>\n",
       "    <tr>\n",
       "      <th>Education</th>\n",
       "      <td>Education</td>\n",
       "      <td>0.002985</td>\n",
       "    </tr>\n",
       "    <tr>\n",
       "      <th>BMI</th>\n",
       "      <td>BMI</td>\n",
       "      <td>10.288886</td>\n",
       "    </tr>\n",
       "    <tr>\n",
       "      <th>Alcoholic</th>\n",
       "      <td>Alcoholic</td>\n",
       "      <td>0.000000</td>\n",
       "    </tr>\n",
       "    <tr>\n",
       "      <th>Smoker</th>\n",
       "      <td>Smoker</td>\n",
       "      <td>0.000000</td>\n",
       "    </tr>\n",
       "    <tr>\n",
       "      <th>Marital</th>\n",
       "      <td>Marital</td>\n",
       "      <td>0.000000</td>\n",
       "    </tr>\n",
       "  </tbody>\n",
       "</table>\n",
       "</div>"
      ],
      "text/plain": [
       "          column_name  percent_missing\n",
       "cancer         cancer         0.000746\n",
       "genetic       genetic         0.000746\n",
       "Gender         Gender         0.000000\n",
       "Age               Age         0.002985\n",
       "Education   Education         0.002985\n",
       "BMI               BMI        10.288886\n",
       "Alcoholic   Alcoholic         0.000000\n",
       "Smoker         Smoker         0.000000\n",
       "Marital       Marital         0.000000"
      ]
     },
     "execution_count": 23,
     "metadata": {},
     "output_type": "execute_result"
    }
   ],
   "source": [
    "percent_missing = cancer.isnull().sum() * 100 / len(cancer)\n",
    "missing_value_df = pd.DataFrame({'column_name': cancer.columns,\n",
    "                                 'percent_missing': percent_missing})\n",
    "missing_value_df"
   ]
  },
  {
   "cell_type": "code",
   "execution_count": 24,
   "metadata": {},
   "outputs": [],
   "source": [
    "cancer1 = cancer.dropna()\n",
    "cancer1 = cancer1.astype({\"cancer\":'int', \"genetic\":'int',\"BMI\":'int',\"Education\":'int'})"
   ]
  },
  {
   "cell_type": "code",
   "execution_count": 25,
   "metadata": {},
   "outputs": [
    {
     "name": "stdout",
     "output_type": "stream",
     "text": [
      "<class 'pandas.core.frame.DataFrame'>\n",
      "Int64Index: 360601 entries, 0 to 401957\n",
      "Data columns (total 9 columns):\n",
      " #   Column     Non-Null Count   Dtype  \n",
      "---  ------     --------------   -----  \n",
      " 0   cancer     360601 non-null  int32  \n",
      " 1   genetic    360601 non-null  int32  \n",
      " 2   Gender     360601 non-null  int64  \n",
      " 3   Age        360601 non-null  float64\n",
      " 4   Education  360601 non-null  int32  \n",
      " 5   BMI        360601 non-null  int32  \n",
      " 6   Alcoholic  360601 non-null  int64  \n",
      " 7   Smoker     360601 non-null  int64  \n",
      " 8   Marital    360601 non-null  int64  \n",
      "dtypes: float64(1), int32(4), int64(4)\n",
      "memory usage: 22.0 MB\n"
     ]
    }
   ],
   "source": [
    "cancer1.info()"
   ]
  },
  {
   "cell_type": "code",
   "execution_count": 26,
   "metadata": {},
   "outputs": [
    {
     "name": "stdout",
     "output_type": "stream",
     "text": [
      "Marital     -0.145044\n",
      "Education   -0.031161\n",
      "Alcoholic   -0.003633\n",
      "Gender       0.002071\n",
      "Smoker       0.011339\n",
      "BMI          0.013979\n",
      "Age          0.066030\n",
      "genetic      0.173176\n",
      "dtype: float64\n"
     ]
    }
   ],
   "source": [
    "importances = cancer1.drop(\"cancer\", axis=1).apply(lambda x: x.corr(cancer1.cancer))\n",
    "indices = np.argsort(importances)\n",
    "print(importances[indices])"
   ]
  },
  {
   "cell_type": "code",
   "execution_count": 27,
   "metadata": {},
   "outputs": [
    {
     "name": "stdout",
     "output_type": "stream",
     "text": [
      "genetic  is not correlated  with  Age\n",
      "genetic  is not correlated  with  BMI\n",
      "genetic  is not correlated  with  Smoker\n",
      "genetic  is not correlated  with  Gender\n",
      "Age  is not correlated  with  genetic\n",
      "Age  is not correlated  with  BMI\n",
      "Age  is not correlated  with  Smoker\n",
      "Age  is not correlated  with  Gender\n",
      "BMI  is not correlated  with  genetic\n",
      "BMI  is not correlated  with  Age\n",
      "BMI  is not correlated  with  Smoker\n",
      "BMI  is not correlated  with  Gender\n",
      "Smoker  is not correlated  with  genetic\n",
      "Smoker  is not correlated  with  Age\n",
      "Smoker  is not correlated  with  BMI\n",
      "Smoker  is not correlated  with  Gender\n",
      "Gender  is not correlated  with  genetic\n",
      "Gender  is not correlated  with  Age\n",
      "Gender  is not correlated  with  BMI\n",
      "Gender  is not correlated  with  Smoker\n"
     ]
    }
   ],
   "source": [
    "df3= cancer1[[\"genetic\",\"Age\",\"BMI\",\"Smoker\",\"Gender\"]]\n",
    "find_correlations(df3)"
   ]
  },
  {
   "cell_type": "markdown",
   "metadata": {},
   "source": [
    "Selected features : Genetic, Age, BMI, Smoker, Gender"
   ]
  },
  {
   "cell_type": "code",
   "execution_count": 28,
   "metadata": {},
   "outputs": [],
   "source": [
    "cancerArr = [\"genetic\",\"Age\",\"BMI\",\"Smoker\",\"Gender\"]"
   ]
  },
  {
   "cell_type": "code",
   "execution_count": 29,
   "metadata": {},
   "outputs": [
    {
     "data": {
      "image/png": "[encoded data removed]",
      "text/plain": [
       "<Figure size 640x480 with 1 Axes>"
      ]
     },
     "metadata": {},
     "output_type": "display_data"
    }
   ],
   "source": [
    "data = cancer1[[\"cancer\",\"genetic\",\"Age\",\"BMI\",\"Smoker\",\"Gender\"]]\n",
    "corr = data.corr()\n",
    "ax1 = sns.heatmap(corr, cbar=0, linewidths=2,vmax=1, vmin=0, square=True, cmap='Blues')\n",
    "mp.show()"
   ]
  },
  {
   "cell_type": "code",
   "execution_count": 30,
   "metadata": {},
   "outputs": [
    {
     "name": "stderr",
     "output_type": "stream",
     "text": [
      "Summarize dataset:   0%|          | 0/5 [00:00<?, ?it/s]c:\\Users\\sneha\\OneDrive\\Desktop\\Predict-health-insurance-amount\\venv\\lib\\site-packages\\multimethod\\__init__.py:315: FutureWarning: iteritems is deprecated and will be removed in a future version. Use .items instead.\n",
      "  return func(*args, **kwargs)\n",
      "Summarize dataset:  42%|████▏     | 8/19 [00:31<00:38,  3.50s/it, Calculate auto correlation]c:\\Users\\sneha\\OneDrive\\Desktop\\Predict-health-insurance-amount\\venv\\lib\\site-packages\\multimethod\\__init__.py:315: FutureWarning: In a future version, `df.iloc[:, i] = newvals` will attempt to set the values inplace instead of always setting a new array. To retain the old behavior, use either `df[df.columns[i]] = newvals` or, if columns are non-unique, `df.isetitem(i, newvals)`\n",
      "  return func(*args, **kwargs)\n",
      "Summarize dataset:  58%|█████▊    | 11/19 [00:35<00:15,  1.90s/it, Calculate kendall correlation] c:\\Users\\sneha\\OneDrive\\Desktop\\Predict-health-insurance-amount\\venv\\lib\\site-packages\\scipy\\stats\\_stats_py.py:5218: RuntimeWarning: overflow encountered in longlong_scalars\n",
      "  (2 * xtie * ytie) / m + x0 * y0 / (9 * m * (size - 2)))\n",
      "Summarize dataset: 100%|██████████| 25/25 [00:51<00:00,  2.06s/it, Completed]                    \n",
      "Generate report structure: 100%|██████████| 1/1 [00:10<00:00, 10.31s/it]\n",
      "Render HTML: 100%|██████████| 1/1 [00:01<00:00,  1.26s/it]\n",
      "Export report to file: 100%|██████████| 1/1 [00:00<00:00, 83.32it/s]\n"
     ]
    }
   ],
   "source": [
    "#Report\n",
    "report1 = pp.ProfileReport(data)\n",
    "\n",
    "#Save the report in HTML format.\n",
    "report1.to_file(\"..\\Report\\Cancer.html\")"
   ]
  },
  {
   "cell_type": "code",
   "execution_count": 34,
   "metadata": {},
   "outputs": [
    {
     "name": "stdout",
     "output_type": "stream",
     "text": [
      "['Age' 'BMI' 'Gender' 'Smoker']\n"
     ]
    }
   ],
   "source": [
    "#Intersection operation applied to select final set of features.\n",
    "HeartAndDiab = np.intersect1d(heartArr,diabArr)\n",
    "features = np.intersect1d(HeartAndDiab,cancerArr)\n",
    "print(features)"
   ]
  }
 ],
 "metadata": {
  "kernelspec": {
   "display_name": "Python 3.10.7 ('venv': venv)",
   "language": "python",
   "name": "python3"
  },
  "language_info": {
   "codemirror_mode": {
    "name": "ipython",
    "version": 3
   },
   "file_extension": ".py",
   "mimetype": "text/x-python",
   "name": "python",
   "nbconvert_exporter": "python",
   "pygments_lexer": "ipython3",
   "version": "3.10.7"
  },
  "orig_nbformat": 4,
  "vscode": {
   "interpreter": {
    "hash": "2ea62315d80355284e62bcedd46872d98407bc22231d83c412137a13b3e2369f"
   }
  }
 },
 "nbformat": 4,
 "nbformat_minor": 2
}
