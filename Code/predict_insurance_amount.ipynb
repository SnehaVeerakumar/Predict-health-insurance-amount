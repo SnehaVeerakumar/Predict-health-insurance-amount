{
 "cells": [
  {
   "cell_type": "markdown",
   "metadata": {},
   "source": [
    "# Prediction of health insurance amount"
   ]
  },
  {
   "cell_type": "code",
   "execution_count": 1,
   "metadata": {},
   "outputs": [
    {
     "name": "stderr",
     "output_type": "stream",
     "text": [
      "c:\\Users\\sneha\\OneDrive\\Desktop\\Predict-health-insurance-amount\\venv\\lib\\site-packages\\tqdm\\auto.py:22: TqdmWarning: IProgress not found. Please update jupyter and ipywidgets. See https://ipywidgets.readthedocs.io/en/stable/user_install.html\n",
      "  from .autonotebook import tqdm as notebook_tqdm\n"
     ]
    }
   ],
   "source": [
    "#Import libraries\n",
    "import pandas as pd\n",
    "import pandas_profiling as pp\n",
    "import numpy as np\n",
    "import seaborn as sns\n",
    "import matplotlib.pyplot as mp"
   ]
  },
  {
   "cell_type": "code",
   "execution_count": null,
   "metadata": {},
   "outputs": [],
   "source": [
    "#Read dataset\n",
    "heart = pd.read_csv(r\"..\\Dataset\\heart.csv\")\n",
    "diab = pd.read_csv(r\"..\\Dataset\\diabetes.csv\")\n",
    "cancer = pd.read_csv(r\"..\\Dataset\\can.csv\")"
   ]
  },
  {
   "cell_type": "markdown",
   "metadata": {},
   "source": [
    "Three most expensive diseases in the world according to National Association for Biomedical Research :\n",
    "1. Heart disease\n",
    "2. Diabetes \n",
    "3. Cancer "
   ]
  },
  {
   "cell_type": "markdown",
   "metadata": {},
   "source": [
    "## Analysis of Disease Indicators\n",
    "We will analyse each dataset of the diseases such as heart disease, diabetes and cancer to find risk factors of the particular disease. We will then apply intersection between three sets for feature selection."
   ]
  },
  {
   "cell_type": "markdown",
   "metadata": {},
   "source": [
    "### Analysis of Heart Disease Indicators dataset"
   ]
  },
  {
   "cell_type": "code",
   "execution_count": null,
   "metadata": {},
   "outputs": [],
   "source": [
    "#view dataset\n",
    "heart.head(10)"
   ]
  },
  {
   "cell_type": "code",
   "execution_count": null,
   "metadata": {},
   "outputs": [],
   "source": [
    "heart.info()"
   ]
  },
  {
   "cell_type": "code",
   "execution_count": null,
   "metadata": {},
   "outputs": [],
   "source": [
    "df = heart.copy()"
   ]
  },
  {
   "cell_type": "code",
   "execution_count": null,
   "metadata": {},
   "outputs": [],
   "source": [
    "importances = df.drop(\"HeartDiseaseorAttack\", axis=1).apply(lambda x: x.corr(df.HeartDiseaseorAttack))\n",
    "indices = np.argsort(importances)\n",
    "print(importances[indices])"
   ]
  },
  {
   "cell_type": "code",
   "execution_count": 44,
   "metadata": {},
   "outputs": [],
   "source": [
    "def find_correlations(X):\n",
    "    for i in range(0,len(X.columns)):\n",
    "        for j in  range(0,len(X.columns)):\n",
    "            if i!=j:\n",
    "                corr_1=np.abs(X[X.columns[i]].corr(X[X.columns[j]]))\n",
    "                if corr_1 <0.2:\n",
    "                    print( X.columns[i] , \" is not correlated  with \", X.columns[j])\n",
    "                elif corr_1>=0.2:\n",
    "                    print( X.columns[i] , \" is correlated  with \", X.columns[j])\n",
    "                "
   ]
  },
  {
   "cell_type": "code",
   "execution_count": null,
   "metadata": {},
   "outputs": [],
   "source": [
    "#Finding independant features\n",
    "X= df[['Age','HighBP','Stroke','HighChol','Smoker','Sex','BMI','CholCheck']]\n",
    "find_correlations(X)"
   ]
  },
  {
   "cell_type": "markdown",
   "metadata": {},
   "source": [
    "Selected features : Age, Stroke, Smoker, Sex and BMI."
   ]
  },
  {
   "cell_type": "code",
   "execution_count": null,
   "metadata": {},
   "outputs": [],
   "source": [
    "data = heart[[\"HeartDiseaseorAttack\",\"CholCheck\",\"BMI\",\"Smoker\",\"Stroke\",\"Sex\",\"Age\"]]\n",
    "corr = data.corr()\n",
    "\n",
    "ax1 = sns.heatmap(corr, cbar=0, linewidths=2,vmax=1, vmin=0, square=True, cmap='Blues')\n",
    "mp.show()"
   ]
  },
  {
   "cell_type": "code",
   "execution_count": null,
   "metadata": {},
   "outputs": [],
   "source": [
    "#Report\n",
    "report1 = pp.ProfileReport(df)\n",
    "\n",
    "#Save the report in HTML format.\n",
    "report1.to_file(\".\\Report\\Heart.html\")"
   ]
  },
  {
   "cell_type": "markdown",
   "metadata": {},
   "source": [
    "### Analysis of Diabetes Indicators dataset"
   ]
  },
  {
   "cell_type": "code",
   "execution_count": null,
   "metadata": {},
   "outputs": [],
   "source": [
    "#Read dataset\n",
    "diab.head(10)"
   ]
  },
  {
   "cell_type": "code",
   "execution_count": null,
   "metadata": {},
   "outputs": [],
   "source": [
    "diab.info()"
   ]
  },
  {
   "cell_type": "code",
   "execution_count": null,
   "metadata": {},
   "outputs": [],
   "source": [
    "df1 = diab.copy()"
   ]
  },
  {
   "cell_type": "code",
   "execution_count": null,
   "metadata": {},
   "outputs": [],
   "source": [
    "importances = df1.drop(\"diabetes\", axis=1).apply(lambda x: x.corr(diab.diabetes))\n",
    "indices = np.argsort(importances)\n",
    "print(importances[indices])"
   ]
  },
  {
   "cell_type": "code",
   "execution_count": null,
   "metadata": {},
   "outputs": [],
   "source": [
    "df2 = df1[[\"HighBP\",\"BMI\",\"HighChol\",\"Age\",\"Stroke\",\"CholCheck\",\"Smoker\",\"Sex\"]]\n",
    "find_correlations(df2)"
   ]
  },
  {
   "cell_type": "markdown",
   "metadata": {},
   "source": [
    "Selected features : BMI, Age, Stroke, Cholcheck, Smoker, Sex"
   ]
  },
  {
   "cell_type": "code",
   "execution_count": null,
   "metadata": {},
   "outputs": [],
   "source": [
    "data = df1[[\"diabetes\",\"BMI\",\"Age\",\"Stroke\",\"CholCheck\",\"Smoker\",\"Sex\"]]\n",
    "corr = data.corr()"
   ]
  },
  {
   "cell_type": "code",
   "execution_count": null,
   "metadata": {},
   "outputs": [],
   "source": [
    "ax1 = sns.heatmap(corr, cbar=0, linewidths=2,vmax=1, vmin=0, square=True, cmap='Blues')\n",
    "mp.show()"
   ]
  },
  {
   "cell_type": "code",
   "execution_count": null,
   "metadata": {},
   "outputs": [],
   "source": [
    "#Report\n",
    "report1 = pp.ProfileReport(df1)\n",
    "\n",
    "#Save the report in HTML format.\n",
    "report1.to_file(\".\\Report\\Diabetes.html\")"
   ]
  },
  {
   "cell_type": "markdown",
   "metadata": {},
   "source": [
    "### Analysis of Cancer Indicators dataset"
   ]
  },
  {
   "cell_type": "code",
   "execution_count": null,
   "metadata": {},
   "outputs": [],
   "source": [
    "cancer.head(10)"
   ]
  },
  {
   "cell_type": "code",
   "execution_count": null,
   "metadata": {},
   "outputs": [],
   "source": [
    "cancer.info()"
   ]
  },
  {
   "cell_type": "code",
   "execution_count": null,
   "metadata": {},
   "outputs": [],
   "source": [
    "percent_missing = cancer.isnull().sum() * 100 / len(cancer)\n",
    "missing_value_df = pd.DataFrame({'column_name': cancer.columns,\n",
    "                                 'percent_missing': percent_missing})\n",
    "missing_value_df"
   ]
  },
  {
   "cell_type": "code",
   "execution_count": null,
   "metadata": {},
   "outputs": [],
   "source": [
    "cancer1 = cancer.dropna()"
   ]
  },
  {
   "cell_type": "code",
   "execution_count": null,
   "metadata": {},
   "outputs": [],
   "source": [
    "cancer1.info()"
   ]
  },
  {
   "cell_type": "code",
   "execution_count": null,
   "metadata": {},
   "outputs": [],
   "source": [
    "cancer1.loc[cancer1[\"Level\"] == \"Low\", \"Level\"] = 0\n",
    "cancer1.loc[cancer1[\"Level\"] == \"Medium\", \"Level\"] = 1\n",
    "cancer1.loc[cancer1[\"Level\"] == \"High\", \"Level\"] = 2\n",
    "\n",
    "cancer1[\"Level\"] = cancer1[\"Level\"].astype(str).astype(int)"
   ]
  },
  {
   "cell_type": "code",
   "execution_count": 47,
   "metadata": {},
   "outputs": [
    {
     "name": "stdout",
     "output_type": "stream",
     "text": [
      "Age        -0.164629\n",
      "EDUCA      -0.031161\n",
      "Smoker     -0.003633\n",
      "Gender      0.002178\n",
      "BMI         0.013979\n",
      "Region      0.015616\n",
      "MARITAL     0.066030\n",
      "Children    0.071847\n",
      "Cancer      0.173176\n",
      "dtype: float64\n"
     ]
    }
   ],
   "source": [
    "importances = cancer1.drop(\"can\", axis=1).apply(lambda x: x.corr(cancer1.can))\n",
    "indices = np.argsort(importances)\n",
    "print(importances[indices])"
   ]
  },
  {
   "cell_type": "code",
   "execution_count": 49,
   "metadata": {},
   "outputs": [
    {
     "name": "stdout",
     "output_type": "stream",
     "text": [
      "Children  is not correlated  with  MARITAL\n",
      "Children  is not correlated  with  Region\n",
      "Children  is not correlated  with  BMI\n",
      "Children  is not correlated  with  Gender\n",
      "MARITAL  is not correlated  with  Children\n",
      "MARITAL  is not correlated  with  Region\n",
      "MARITAL  is not correlated  with  BMI\n",
      "MARITAL  is not correlated  with  Gender\n",
      "Region  is not correlated  with  Children\n",
      "Region  is not correlated  with  MARITAL\n",
      "Region  is not correlated  with  BMI\n",
      "Region  is not correlated  with  Gender\n",
      "BMI  is not correlated  with  Children\n",
      "BMI  is not correlated  with  MARITAL\n",
      "BMI  is not correlated  with  Region\n",
      "BMI  is not correlated  with  Gender\n",
      "Gender  is not correlated  with  Children\n",
      "Gender  is not correlated  with  MARITAL\n",
      "Gender  is not correlated  with  Region\n",
      "Gender  is not correlated  with  BMI\n"
     ]
    }
   ],
   "source": [
    "sv= cancer1[[\"Children\",\"MARITAL\",\"Region\",\"BMI\",\"Gender\"]]\n",
    "find_correlations(sv)"
   ]
  }
 ],
 "metadata": {
  "kernelspec": {
   "display_name": "Python 3.10.7 ('venv': venv)",
   "language": "python",
   "name": "python3"
  },
  "language_info": {
   "codemirror_mode": {
    "name": "ipython",
    "version": 3
   },
   "file_extension": ".py",
   "mimetype": "text/x-python",
   "name": "python",
   "nbconvert_exporter": "python",
   "pygments_lexer": "ipython3",
   "version": "3.10.7"
  },
  "orig_nbformat": 4,
  "vscode": {
   "interpreter": {
    "hash": "2ea62315d80355284e62bcedd46872d98407bc22231d83c412137a13b3e2369f"
   }
  }
 },
 "nbformat": 4,
 "nbformat_minor": 2
}
