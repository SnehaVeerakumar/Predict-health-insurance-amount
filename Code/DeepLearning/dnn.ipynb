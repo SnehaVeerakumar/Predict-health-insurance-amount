{
 "cells": [
  {
   "cell_type": "code",
   "execution_count": 6,
   "metadata": {},
   "outputs": [],
   "source": [
    "import tensorflow as tf\n",
    "import pandas as pd\n",
    "import numpy as np\n",
    "import matplotlib.pyplot as plt\n",
    "from keras.models import Sequential\n",
    "from keras.layers import *\n",
    "from sklearn.metrics import r2_score\n",
    "from sklearn.model_selection import train_test_split\n",
    "from sklearn.compose import make_column_transformer\n",
    "from sklearn.preprocessing import MinMaxScaler, OneHotEncoder,StandardScaler"
   ]
  },
  {
   "cell_type": "code",
   "execution_count": 4,
   "metadata": {},
   "outputs": [
    {
     "data": {
      "text/html": [
       "<div>\n",
       "<style scoped>\n",
       "    .dataframe tbody tr th:only-of-type {\n",
       "        vertical-align: middle;\n",
       "    }\n",
       "\n",
       "    .dataframe tbody tr th {\n",
       "        vertical-align: top;\n",
       "    }\n",
       "\n",
       "    .dataframe thead th {\n",
       "        text-align: right;\n",
       "    }\n",
       "</style>\n",
       "<table border=\"1\" class=\"dataframe\">\n",
       "  <thead>\n",
       "    <tr style=\"text-align: right;\">\n",
       "      <th></th>\n",
       "      <th>age</th>\n",
       "      <th>sex</th>\n",
       "      <th>bmi</th>\n",
       "      <th>children</th>\n",
       "      <th>smoker</th>\n",
       "      <th>region</th>\n",
       "      <th>charges</th>\n",
       "    </tr>\n",
       "  </thead>\n",
       "  <tbody>\n",
       "    <tr>\n",
       "      <th>0</th>\n",
       "      <td>19</td>\n",
       "      <td>1</td>\n",
       "      <td>27.900</td>\n",
       "      <td>0</td>\n",
       "      <td>1</td>\n",
       "      <td>3</td>\n",
       "      <td>16884.92400</td>\n",
       "    </tr>\n",
       "    <tr>\n",
       "      <th>1</th>\n",
       "      <td>18</td>\n",
       "      <td>0</td>\n",
       "      <td>33.770</td>\n",
       "      <td>1</td>\n",
       "      <td>0</td>\n",
       "      <td>2</td>\n",
       "      <td>1725.55230</td>\n",
       "    </tr>\n",
       "    <tr>\n",
       "      <th>2</th>\n",
       "      <td>28</td>\n",
       "      <td>0</td>\n",
       "      <td>33.000</td>\n",
       "      <td>3</td>\n",
       "      <td>0</td>\n",
       "      <td>2</td>\n",
       "      <td>4449.46200</td>\n",
       "    </tr>\n",
       "    <tr>\n",
       "      <th>3</th>\n",
       "      <td>33</td>\n",
       "      <td>0</td>\n",
       "      <td>22.705</td>\n",
       "      <td>0</td>\n",
       "      <td>0</td>\n",
       "      <td>0</td>\n",
       "      <td>21984.47061</td>\n",
       "    </tr>\n",
       "    <tr>\n",
       "      <th>4</th>\n",
       "      <td>32</td>\n",
       "      <td>0</td>\n",
       "      <td>28.880</td>\n",
       "      <td>0</td>\n",
       "      <td>0</td>\n",
       "      <td>0</td>\n",
       "      <td>3866.85520</td>\n",
       "    </tr>\n",
       "  </tbody>\n",
       "</table>\n",
       "</div>"
      ],
      "text/plain": [
       "   age  sex     bmi  children  smoker  region      charges\n",
       "0   19    1  27.900         0       1       3  16884.92400\n",
       "1   18    0  33.770         1       0       2   1725.55230\n",
       "2   28    0  33.000         3       0       2   4449.46200\n",
       "3   33    0  22.705         0       0       0  21984.47061\n",
       "4   32    0  28.880         0       0       0   3866.85520"
      ]
     },
     "execution_count": 4,
     "metadata": {},
     "output_type": "execute_result"
    }
   ],
   "source": [
    "df = pd.read_csv('../../Dataset/processedData.csv')\n",
    "df.head()"
   ]
  },
  {
   "cell_type": "code",
   "execution_count": 7,
   "metadata": {},
   "outputs": [],
   "source": [
    "training_data_df,test_data_df = train_test_split(df,test_size=0.2,random_state=20)"
   ]
  },
  {
   "cell_type": "code",
   "execution_count": 8,
   "metadata": {},
   "outputs": [],
   "source": [
    "scaler = MinMaxScaler(feature_range=(0, 1))"
   ]
  },
  {
   "cell_type": "code",
   "execution_count": 9,
   "metadata": {},
   "outputs": [],
   "source": [
    "scaled_training = scaler.fit_transform(training_data_df)\n",
    "scaled_testing = scaler.transform(test_data_df)"
   ]
  },
  {
   "cell_type": "code",
   "execution_count": 10,
   "metadata": {},
   "outputs": [
    {
     "name": "stdout",
     "output_type": "stream",
     "text": [
      "Values were scaled by multiplying by 0.0000159621 and adding -0.017907\n"
     ]
    }
   ],
   "source": [
    "print(\"Values were scaled by multiplying by {:.10f} and adding {:.6f}\".format(scaler.scale_[6], scaler.min_[6]))"
   ]
  },
  {
   "cell_type": "code",
   "execution_count": 11,
   "metadata": {},
   "outputs": [],
   "source": [
    "training_data_df = pd.DataFrame(scaled_training, columns=training_data_df.columns.values)\n",
    "test_data_df = pd.DataFrame(scaled_testing, columns=test_data_df.columns.values)"
   ]
  },
  {
   "cell_type": "code",
   "execution_count": 12,
   "metadata": {},
   "outputs": [],
   "source": [
    "X = training_data_df.drop('charges', axis=1).values\n",
    "Y = training_data_df[['charges']].values"
   ]
  },
  {
   "cell_type": "code",
   "execution_count": 13,
   "metadata": {},
   "outputs": [],
   "source": [
    "model = Sequential()\n",
    "model.add(Dense(50, input_dim=6, activation='relu'))\n",
    "model.add(Dense(100, activation='relu'))\n",
    "model.add(Dense(50, activation='relu'))\n",
    "model.add(Dense(1, activation='linear'))\n",
    "model.compile(loss='mean_squared_error', optimizer='adam')"
   ]
  },
  {
   "cell_type": "code",
   "execution_count": 14,
   "metadata": {},
   "outputs": [
    {
     "name": "stdout",
     "output_type": "stream",
     "text": [
      "Epoch 1/50\n",
      "34/34 - 33s - loss: 0.0274 - 33s/epoch - 968ms/step\n",
      "Epoch 2/50\n",
      "34/34 - 0s - loss: 0.0099 - 170ms/epoch - 5ms/step\n",
      "Epoch 3/50\n",
      "34/34 - 0s - loss: 0.0086 - 148ms/epoch - 4ms/step\n",
      "Epoch 4/50\n",
      "34/34 - 0s - loss: 0.0077 - 139ms/epoch - 4ms/step\n",
      "Epoch 5/50\n",
      "34/34 - 0s - loss: 0.0071 - 141ms/epoch - 4ms/step\n",
      "Epoch 6/50\n",
      "34/34 - 0s - loss: 0.0069 - 160ms/epoch - 5ms/step\n",
      "Epoch 7/50\n",
      "34/34 - 0s - loss: 0.0066 - 128ms/epoch - 4ms/step\n",
      "Epoch 8/50\n",
      "34/34 - 0s - loss: 0.0065 - 85ms/epoch - 3ms/step\n",
      "Epoch 9/50\n",
      "34/34 - 0s - loss: 0.0063 - 385ms/epoch - 11ms/step\n",
      "Epoch 10/50\n",
      "34/34 - 0s - loss: 0.0064 - 122ms/epoch - 4ms/step\n",
      "Epoch 11/50\n",
      "34/34 - 0s - loss: 0.0060 - 120ms/epoch - 4ms/step\n",
      "Epoch 12/50\n",
      "34/34 - 0s - loss: 0.0060 - 110ms/epoch - 3ms/step\n",
      "Epoch 13/50\n",
      "34/34 - 0s - loss: 0.0059 - 84ms/epoch - 2ms/step\n",
      "Epoch 14/50\n",
      "34/34 - 0s - loss: 0.0059 - 90ms/epoch - 3ms/step\n",
      "Epoch 15/50\n",
      "34/34 - 0s - loss: 0.0061 - 236ms/epoch - 7ms/step\n",
      "Epoch 16/50\n",
      "34/34 - 0s - loss: 0.0057 - 126ms/epoch - 4ms/step\n",
      "Epoch 17/50\n",
      "34/34 - 0s - loss: 0.0056 - 89ms/epoch - 3ms/step\n",
      "Epoch 18/50\n",
      "34/34 - 0s - loss: 0.0058 - 233ms/epoch - 7ms/step\n",
      "Epoch 19/50\n",
      "34/34 - 0s - loss: 0.0056 - 216ms/epoch - 6ms/step\n",
      "Epoch 20/50\n",
      "34/34 - 0s - loss: 0.0058 - 117ms/epoch - 3ms/step\n",
      "Epoch 21/50\n",
      "34/34 - 0s - loss: 0.0055 - 155ms/epoch - 5ms/step\n",
      "Epoch 22/50\n",
      "34/34 - 0s - loss: 0.0055 - 151ms/epoch - 4ms/step\n",
      "Epoch 23/50\n",
      "34/34 - 0s - loss: 0.0058 - 152ms/epoch - 4ms/step\n",
      "Epoch 24/50\n",
      "34/34 - 0s - loss: 0.0055 - 173ms/epoch - 5ms/step\n",
      "Epoch 25/50\n",
      "34/34 - 0s - loss: 0.0055 - 153ms/epoch - 5ms/step\n",
      "Epoch 26/50\n",
      "34/34 - 0s - loss: 0.0053 - 90ms/epoch - 3ms/step\n",
      "Epoch 27/50\n",
      "34/34 - 0s - loss: 0.0053 - 91ms/epoch - 3ms/step\n",
      "Epoch 28/50\n",
      "34/34 - 0s - loss: 0.0053 - 153ms/epoch - 5ms/step\n",
      "Epoch 29/50\n",
      "34/34 - 0s - loss: 0.0054 - 211ms/epoch - 6ms/step\n",
      "Epoch 30/50\n",
      "34/34 - 0s - loss: 0.0053 - 138ms/epoch - 4ms/step\n",
      "Epoch 31/50\n",
      "34/34 - 0s - loss: 0.0052 - 88ms/epoch - 3ms/step\n",
      "Epoch 32/50\n",
      "34/34 - 0s - loss: 0.0052 - 87ms/epoch - 3ms/step\n",
      "Epoch 33/50\n",
      "34/34 - 0s - loss: 0.0051 - 100ms/epoch - 3ms/step\n",
      "Epoch 34/50\n",
      "34/34 - 0s - loss: 0.0052 - 107ms/epoch - 3ms/step\n",
      "Epoch 35/50\n",
      "34/34 - 0s - loss: 0.0054 - 96ms/epoch - 3ms/step\n",
      "Epoch 36/50\n",
      "34/34 - 0s - loss: 0.0054 - 96ms/epoch - 3ms/step\n",
      "Epoch 37/50\n",
      "34/34 - 0s - loss: 0.0051 - 102ms/epoch - 3ms/step\n",
      "Epoch 38/50\n",
      "34/34 - 0s - loss: 0.0053 - 91ms/epoch - 3ms/step\n",
      "Epoch 39/50\n",
      "34/34 - 0s - loss: 0.0051 - 85ms/epoch - 3ms/step\n",
      "Epoch 40/50\n",
      "34/34 - 0s - loss: 0.0052 - 142ms/epoch - 4ms/step\n",
      "Epoch 41/50\n",
      "34/34 - 0s - loss: 0.0050 - 311ms/epoch - 9ms/step\n",
      "Epoch 42/50\n",
      "34/34 - 0s - loss: 0.0049 - 100ms/epoch - 3ms/step\n",
      "Epoch 43/50\n",
      "34/34 - 0s - loss: 0.0056 - 105ms/epoch - 3ms/step\n",
      "Epoch 44/50\n",
      "34/34 - 0s - loss: 0.0050 - 99ms/epoch - 3ms/step\n",
      "Epoch 45/50\n",
      "34/34 - 0s - loss: 0.0049 - 96ms/epoch - 3ms/step\n",
      "Epoch 46/50\n",
      "34/34 - 0s - loss: 0.0051 - 88ms/epoch - 3ms/step\n",
      "Epoch 47/50\n",
      "34/34 - 0s - loss: 0.0049 - 90ms/epoch - 3ms/step\n",
      "Epoch 48/50\n",
      "34/34 - 0s - loss: 0.0047 - 86ms/epoch - 3ms/step\n",
      "Epoch 49/50\n",
      "34/34 - 0s - loss: 0.0051 - 149ms/epoch - 4ms/step\n",
      "Epoch 50/50\n",
      "34/34 - 0s - loss: 0.0048 - 243ms/epoch - 7ms/step\n"
     ]
    },
    {
     "data": {
      "text/plain": [
       "<keras.callbacks.History at 0x181c3e89780>"
      ]
     },
     "execution_count": 14,
     "metadata": {},
     "output_type": "execute_result"
    }
   ],
   "source": [
    "model.fit(\n",
    "    X,\n",
    "    Y,\n",
    "    epochs=50,\n",
    "    shuffle=True,\n",
    "    verbose=2\n",
    ")"
   ]
  },
  {
   "cell_type": "code",
   "execution_count": 15,
   "metadata": {},
   "outputs": [],
   "source": [
    "X_test = test_data_df.drop('charges', axis=1).values\n",
    "Y_test = test_data_df[['charges']].values"
   ]
  },
  {
   "cell_type": "code",
   "execution_count": 16,
   "metadata": {},
   "outputs": [
    {
     "name": "stdout",
     "output_type": "stream",
     "text": [
      "The mean squared error (MSE) for the test data set is: 0.0049681151285767555\n"
     ]
    }
   ],
   "source": [
    "test_error_rate = model.evaluate(X_test, Y_test, verbose=0)\n",
    "print(\"The mean squared error (MSE) for the test data set is: {}\".format(test_error_rate))"
   ]
  },
  {
   "cell_type": "code",
   "execution_count": 17,
   "metadata": {},
   "outputs": [
    {
     "name": "stdout",
     "output_type": "stream",
     "text": [
      "1/1 [==============================] - 2s 2s/step\n"
     ]
    },
    {
     "data": {
      "text/plain": [
       "array([0.27826622], dtype=float32)"
      ]
     },
     "execution_count": 17,
     "metadata": {},
     "output_type": "execute_result"
    }
   ],
   "source": [
    "prediction = model.predict(np.array([0.000000,1.0,0.292605, 0.6,\t1.0,\t0.666667]).reshape(1,6))[0]\n",
    "prediction"
   ]
  },
  {
   "cell_type": "code",
   "execution_count": 18,
   "metadata": {},
   "outputs": [
    {
     "data": {
      "text/plain": [
       "array([18554.777], dtype=float32)"
      ]
     },
     "execution_count": 18,
     "metadata": {},
     "output_type": "execute_result"
    }
   ],
   "source": [
    "prediction = prediction + 0.017907\n",
    "prediction = prediction/0.0000159621\n",
    "prediction"
   ]
  },
  {
   "cell_type": "code",
   "execution_count": 19,
   "metadata": {},
   "outputs": [
    {
     "name": "stderr",
     "output_type": "stream",
     "text": [
      "c:\\Users\\sneha\\OneDrive\\Desktop\\Predict-health-insurance-amount\\venv\\lib\\site-packages\\sklearn\\base.py:450: UserWarning: X does not have valid feature names, but MinMaxScaler was fitted with feature names\n",
      "  warnings.warn(\n"
     ]
    },
    {
     "name": "stdout",
     "output_type": "stream",
     "text": [
      "1/1 [==============================] - 0s 118ms/step\n"
     ]
    },
    {
     "data": {
      "text/plain": [
       "array([[19645.166]], dtype=float32)"
      ]
     },
     "execution_count": 19,
     "metadata": {},
     "output_type": "execute_result"
    }
   ],
   "source": [
    "# Predict test value\n",
    "\n",
    "dummy = 0\n",
    "arr = np.array([19,1,27.9,0,1,3])\n",
    "arr =  np.insert(arr, 6, dummy)\n",
    "testval = pd.DataFrame((arr).reshape(1,7))\n",
    "testval = scaler.transform(testval)\n",
    "testval = np.delete(testval,-1)\n",
    "pred = model.predict(testval.reshape(1,6))\n",
    "pred = pred + 0.017907\n",
    "pred = pred/0.0000159621\n",
    "pred"
   ]
  },
  {
   "cell_type": "code",
   "execution_count": 21,
   "metadata": {},
   "outputs": [
    {
     "name": "stdout",
     "output_type": "stream",
     "text": [
      "Keras weights file (<HDF5 file \"variables.h5\" (mode r+)>) saving:\n",
      "...layers\\dense\n",
      "......vars\n",
      ".........0\n",
      ".........1\n",
      "...layers\\dense_1\n",
      "......vars\n",
      ".........0\n",
      ".........1\n",
      "...layers\\dense_2\n",
      "......vars\n",
      ".........0\n",
      ".........1\n",
      "...layers\\dense_3\n",
      "......vars\n",
      ".........0\n",
      ".........1\n",
      "...metrics\\mean\n",
      "......vars\n",
      ".........0\n",
      ".........1\n",
      "...optimizer\n",
      "......vars\n",
      ".........0\n",
      ".........1\n",
      ".........10\n",
      ".........11\n",
      ".........12\n",
      ".........13\n",
      ".........14\n",
      ".........15\n",
      ".........16\n",
      ".........2\n",
      ".........3\n",
      ".........4\n",
      ".........5\n",
      ".........6\n",
      ".........7\n",
      ".........8\n",
      ".........9\n",
      "...vars\n",
      "Keras model archive saving:\n",
      "File Name                                             Modified             Size\n",
      "config.json                                    2022-12-11 00:30:15         2236\n",
      "metadata.json                                  2022-12-11 00:30:15           64\n",
      "variables.h5                                   2022-12-11 00:30:15       151008\n"
     ]
    }
   ],
   "source": [
    "import pickle\n",
    "with open('../../dnn_model.pkl', 'wb') as file:\n",
    "    pickle.dump(model, file)"
   ]
  }
 ],
 "metadata": {
  "kernelspec": {
   "display_name": "Python 3.10.7 ('venv': venv)",
   "language": "python",
   "name": "python3"
  },
  "language_info": {
   "codemirror_mode": {
    "name": "ipython",
    "version": 3
   },
   "file_extension": ".py",
   "mimetype": "text/x-python",
   "name": "python",
   "nbconvert_exporter": "python",
   "pygments_lexer": "ipython3",
   "version": "3.10.7"
  },
  "orig_nbformat": 4,
  "vscode": {
   "interpreter": {
    "hash": "2ea62315d80355284e62bcedd46872d98407bc22231d83c412137a13b3e2369f"
   }
  }
 },
 "nbformat": 4,
 "nbformat_minor": 2
}
