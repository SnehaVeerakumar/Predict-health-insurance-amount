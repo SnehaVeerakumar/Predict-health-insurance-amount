{
 "cells": [
  {
   "cell_type": "code",
   "execution_count": 1,
   "metadata": {},
   "outputs": [],
   "source": [
    "import tensorflow as tf\n",
    "import pandas as pd\n",
    "import numpy as np\n",
    "import matplotlib.pyplot as plt\n",
    "from keras.models import Sequential\n",
    "from keras.layers import *\n",
    "from sklearn.metrics import r2_score\n",
    "from sklearn.model_selection import train_test_split\n",
    "from sklearn.compose import make_column_transformer\n",
    "from sklearn.preprocessing import MinMaxScaler, OneHotEncoder,StandardScaler"
   ]
  },
  {
   "cell_type": "code",
   "execution_count": 2,
   "metadata": {},
   "outputs": [
    {
     "data": {
      "text/html": [
       "<div>\n",
       "<style scoped>\n",
       "    .dataframe tbody tr th:only-of-type {\n",
       "        vertical-align: middle;\n",
       "    }\n",
       "\n",
       "    .dataframe tbody tr th {\n",
       "        vertical-align: top;\n",
       "    }\n",
       "\n",
       "    .dataframe thead th {\n",
       "        text-align: right;\n",
       "    }\n",
       "</style>\n",
       "<table border=\"1\" class=\"dataframe\">\n",
       "  <thead>\n",
       "    <tr style=\"text-align: right;\">\n",
       "      <th></th>\n",
       "      <th>age</th>\n",
       "      <th>sex</th>\n",
       "      <th>bmi</th>\n",
       "      <th>children</th>\n",
       "      <th>smoker</th>\n",
       "      <th>region</th>\n",
       "      <th>charges</th>\n",
       "    </tr>\n",
       "  </thead>\n",
       "  <tbody>\n",
       "    <tr>\n",
       "      <th>0</th>\n",
       "      <td>19</td>\n",
       "      <td>1</td>\n",
       "      <td>27.900</td>\n",
       "      <td>0</td>\n",
       "      <td>1</td>\n",
       "      <td>3</td>\n",
       "      <td>16884.92400</td>\n",
       "    </tr>\n",
       "    <tr>\n",
       "      <th>1</th>\n",
       "      <td>18</td>\n",
       "      <td>0</td>\n",
       "      <td>33.770</td>\n",
       "      <td>1</td>\n",
       "      <td>0</td>\n",
       "      <td>2</td>\n",
       "      <td>1725.55230</td>\n",
       "    </tr>\n",
       "    <tr>\n",
       "      <th>2</th>\n",
       "      <td>28</td>\n",
       "      <td>0</td>\n",
       "      <td>33.000</td>\n",
       "      <td>3</td>\n",
       "      <td>0</td>\n",
       "      <td>2</td>\n",
       "      <td>4449.46200</td>\n",
       "    </tr>\n",
       "    <tr>\n",
       "      <th>3</th>\n",
       "      <td>33</td>\n",
       "      <td>0</td>\n",
       "      <td>22.705</td>\n",
       "      <td>0</td>\n",
       "      <td>0</td>\n",
       "      <td>0</td>\n",
       "      <td>21984.47061</td>\n",
       "    </tr>\n",
       "    <tr>\n",
       "      <th>4</th>\n",
       "      <td>32</td>\n",
       "      <td>0</td>\n",
       "      <td>28.880</td>\n",
       "      <td>0</td>\n",
       "      <td>0</td>\n",
       "      <td>0</td>\n",
       "      <td>3866.85520</td>\n",
       "    </tr>\n",
       "  </tbody>\n",
       "</table>\n",
       "</div>"
      ],
      "text/plain": [
       "   age  sex     bmi  children  smoker  region      charges\n",
       "0   19    1  27.900         0       1       3  16884.92400\n",
       "1   18    0  33.770         1       0       2   1725.55230\n",
       "2   28    0  33.000         3       0       2   4449.46200\n",
       "3   33    0  22.705         0       0       0  21984.47061\n",
       "4   32    0  28.880         0       0       0   3866.85520"
      ]
     },
     "execution_count": 2,
     "metadata": {},
     "output_type": "execute_result"
    }
   ],
   "source": [
    "df = pd.read_csv('../../Dataset/processedData.csv')\n",
    "df.head()"
   ]
  },
  {
   "cell_type": "code",
   "execution_count": 3,
   "metadata": {},
   "outputs": [],
   "source": [
    "training_data_df,test_data_df = train_test_split(df,test_size=0.2,random_state=20)"
   ]
  },
  {
   "cell_type": "code",
   "execution_count": 4,
   "metadata": {},
   "outputs": [],
   "source": [
    "scaler = MinMaxScaler(feature_range=(0, 1))"
   ]
  },
  {
   "cell_type": "code",
   "execution_count": 5,
   "metadata": {},
   "outputs": [],
   "source": [
    "scaled_training = scaler.fit_transform(training_data_df)\n",
    "scaled_testing = scaler.transform(test_data_df)"
   ]
  },
  {
   "cell_type": "code",
   "execution_count": 6,
   "metadata": {},
   "outputs": [
    {
     "name": "stdout",
     "output_type": "stream",
     "text": [
      "Values were scaled by multiplying by 0.0000159621 and adding -0.017907\n"
     ]
    }
   ],
   "source": [
    "print(\"Values were scaled by multiplying by {:.10f} and adding {:.6f}\".format(scaler.scale_[6], scaler.min_[6]))"
   ]
  },
  {
   "cell_type": "code",
   "execution_count": 7,
   "metadata": {},
   "outputs": [],
   "source": [
    "training_data_df = pd.DataFrame(scaled_training, columns=training_data_df.columns.values)\n",
    "test_data_df = pd.DataFrame(scaled_testing, columns=test_data_df.columns.values)"
   ]
  },
  {
   "cell_type": "code",
   "execution_count": 8,
   "metadata": {},
   "outputs": [],
   "source": [
    "X = training_data_df.drop('charges', axis=1).values\n",
    "Y = training_data_df[['charges']].values"
   ]
  },
  {
   "cell_type": "code",
   "execution_count": 9,
   "metadata": {},
   "outputs": [],
   "source": [
    "model = Sequential()\n",
    "model.add(Dense(50, input_dim=6, activation='relu'))\n",
    "model.add(Dense(100, activation='relu'))\n",
    "model.add(Dense(50, activation='relu'))\n",
    "model.add(Dense(1, activation='linear'))\n",
    "model.compile(loss='mean_squared_error', optimizer='adam')"
   ]
  },
  {
   "cell_type": "code",
   "execution_count": 10,
   "metadata": {},
   "outputs": [
    {
     "name": "stdout",
     "output_type": "stream",
     "text": [
      "Epoch 1/50\n",
      "34/34 - 5s - loss: 0.0225 - 5s/epoch - 141ms/step\n",
      "Epoch 2/50\n",
      "34/34 - 0s - loss: 0.0102 - 264ms/epoch - 8ms/step\n",
      "Epoch 3/50\n",
      "34/34 - 0s - loss: 0.0091 - 168ms/epoch - 5ms/step\n",
      "Epoch 4/50\n",
      "34/34 - 0s - loss: 0.0079 - 259ms/epoch - 8ms/step\n",
      "Epoch 5/50\n",
      "34/34 - 0s - loss: 0.0075 - 282ms/epoch - 8ms/step\n",
      "Epoch 6/50\n",
      "34/34 - 0s - loss: 0.0071 - 449ms/epoch - 13ms/step\n",
      "Epoch 7/50\n",
      "34/34 - 0s - loss: 0.0068 - 315ms/epoch - 9ms/step\n",
      "Epoch 8/50\n",
      "34/34 - 0s - loss: 0.0063 - 228ms/epoch - 7ms/step\n",
      "Epoch 9/50\n",
      "34/34 - 0s - loss: 0.0066 - 185ms/epoch - 5ms/step\n",
      "Epoch 10/50\n",
      "34/34 - 0s - loss: 0.0064 - 127ms/epoch - 4ms/step\n",
      "Epoch 11/50\n",
      "34/34 - 0s - loss: 0.0060 - 176ms/epoch - 5ms/step\n",
      "Epoch 12/50\n",
      "34/34 - 0s - loss: 0.0059 - 152ms/epoch - 4ms/step\n",
      "Epoch 13/50\n",
      "34/34 - 0s - loss: 0.0059 - 134ms/epoch - 4ms/step\n",
      "Epoch 14/50\n",
      "34/34 - 0s - loss: 0.0059 - 170ms/epoch - 5ms/step\n",
      "Epoch 15/50\n",
      "34/34 - 0s - loss: 0.0060 - 169ms/epoch - 5ms/step\n",
      "Epoch 16/50\n",
      "34/34 - 0s - loss: 0.0059 - 150ms/epoch - 4ms/step\n",
      "Epoch 17/50\n",
      "34/34 - 0s - loss: 0.0058 - 274ms/epoch - 8ms/step\n",
      "Epoch 18/50\n",
      "34/34 - 0s - loss: 0.0056 - 288ms/epoch - 8ms/step\n",
      "Epoch 19/50\n",
      "34/34 - 0s - loss: 0.0055 - 252ms/epoch - 7ms/step\n",
      "Epoch 20/50\n",
      "34/34 - 0s - loss: 0.0055 - 198ms/epoch - 6ms/step\n",
      "Epoch 21/50\n",
      "34/34 - 0s - loss: 0.0055 - 251ms/epoch - 7ms/step\n",
      "Epoch 22/50\n",
      "34/34 - 0s - loss: 0.0055 - 255ms/epoch - 8ms/step\n",
      "Epoch 23/50\n",
      "34/34 - 0s - loss: 0.0055 - 264ms/epoch - 8ms/step\n",
      "Epoch 24/50\n",
      "34/34 - 0s - loss: 0.0055 - 245ms/epoch - 7ms/step\n",
      "Epoch 25/50\n",
      "34/34 - 0s - loss: 0.0053 - 265ms/epoch - 8ms/step\n",
      "Epoch 26/50\n",
      "34/34 - 0s - loss: 0.0056 - 279ms/epoch - 8ms/step\n",
      "Epoch 27/50\n",
      "34/34 - 0s - loss: 0.0054 - 190ms/epoch - 6ms/step\n",
      "Epoch 28/50\n",
      "34/34 - 0s - loss: 0.0054 - 162ms/epoch - 5ms/step\n",
      "Epoch 29/50\n",
      "34/34 - 0s - loss: 0.0054 - 113ms/epoch - 3ms/step\n",
      "Epoch 30/50\n",
      "34/34 - 0s - loss: 0.0061 - 163ms/epoch - 5ms/step\n",
      "Epoch 31/50\n",
      "34/34 - 0s - loss: 0.0055 - 112ms/epoch - 3ms/step\n",
      "Epoch 32/50\n",
      "34/34 - 0s - loss: 0.0054 - 172ms/epoch - 5ms/step\n",
      "Epoch 33/50\n",
      "34/34 - 0s - loss: 0.0051 - 110ms/epoch - 3ms/step\n",
      "Epoch 34/50\n",
      "34/34 - 0s - loss: 0.0052 - 165ms/epoch - 5ms/step\n",
      "Epoch 35/50\n",
      "34/34 - 0s - loss: 0.0052 - 170ms/epoch - 5ms/step\n",
      "Epoch 36/50\n",
      "34/34 - 0s - loss: 0.0052 - 115ms/epoch - 3ms/step\n",
      "Epoch 37/50\n",
      "34/34 - 0s - loss: 0.0051 - 162ms/epoch - 5ms/step\n",
      "Epoch 38/50\n",
      "34/34 - 0s - loss: 0.0055 - 117ms/epoch - 3ms/step\n",
      "Epoch 39/50\n",
      "34/34 - 0s - loss: 0.0050 - 155ms/epoch - 5ms/step\n",
      "Epoch 40/50\n",
      "34/34 - 0s - loss: 0.0051 - 129ms/epoch - 4ms/step\n",
      "Epoch 41/50\n",
      "34/34 - 0s - loss: 0.0049 - 212ms/epoch - 6ms/step\n",
      "Epoch 42/50\n",
      "34/34 - 0s - loss: 0.0049 - 217ms/epoch - 6ms/step\n",
      "Epoch 43/50\n",
      "34/34 - 0s - loss: 0.0053 - 177ms/epoch - 5ms/step\n",
      "Epoch 44/50\n",
      "34/34 - 0s - loss: 0.0051 - 359ms/epoch - 11ms/step\n",
      "Epoch 45/50\n",
      "34/34 - 1s - loss: 0.0048 - 544ms/epoch - 16ms/step\n",
      "Epoch 46/50\n",
      "34/34 - 0s - loss: 0.0048 - 276ms/epoch - 8ms/step\n",
      "Epoch 47/50\n",
      "34/34 - 0s - loss: 0.0049 - 276ms/epoch - 8ms/step\n",
      "Epoch 48/50\n",
      "34/34 - 0s - loss: 0.0049 - 279ms/epoch - 8ms/step\n",
      "Epoch 49/50\n",
      "34/34 - 0s - loss: 0.0049 - 223ms/epoch - 7ms/step\n",
      "Epoch 50/50\n",
      "34/34 - 0s - loss: 0.0049 - 161ms/epoch - 5ms/step\n"
     ]
    },
    {
     "data": {
      "text/plain": [
       "<keras.callbacks.History at 0x254bb72d750>"
      ]
     },
     "execution_count": 10,
     "metadata": {},
     "output_type": "execute_result"
    }
   ],
   "source": [
    "model.fit(\n",
    "    X,\n",
    "    Y,\n",
    "    epochs=50,\n",
    "    shuffle=True,\n",
    "    verbose=2\n",
    ")"
   ]
  },
  {
   "cell_type": "code",
   "execution_count": 11,
   "metadata": {},
   "outputs": [],
   "source": [
    "X_test = test_data_df.drop('charges', axis=1).values\n",
    "Y_test = test_data_df[['charges']].values"
   ]
  },
  {
   "cell_type": "code",
   "execution_count": 12,
   "metadata": {},
   "outputs": [
    {
     "name": "stdout",
     "output_type": "stream",
     "text": [
      "The mean squared error (MSE) for the test data set is: 0.004794776439666748\n"
     ]
    }
   ],
   "source": [
    "test_error_rate = model.evaluate(X_test, Y_test, verbose=0)\n",
    "print(\"The mean squared error (MSE) for the test data set is: {}\".format(test_error_rate))"
   ]
  },
  {
   "cell_type": "code",
   "execution_count": 14,
   "metadata": {},
   "outputs": [
    {
     "name": "stdout",
     "output_type": "stream",
     "text": [
      "1/1 [==============================] - 1s 711ms/step\n"
     ]
    },
    {
     "data": {
      "text/plain": [
       "array([0.3352782], dtype=float32)"
      ]
     },
     "execution_count": 14,
     "metadata": {},
     "output_type": "execute_result"
    }
   ],
   "source": [
    "prediction = model.predict(np.array([0.000000,1.0,0.292605, 0.6,\t1.0,\t0.666667]).reshape(1,6))[0]\n",
    "prediction"
   ]
  },
  {
   "cell_type": "code",
   "execution_count": 15,
   "metadata": {},
   "outputs": [
    {
     "data": {
      "text/plain": [
       "array([22126.488], dtype=float32)"
      ]
     },
     "execution_count": 15,
     "metadata": {},
     "output_type": "execute_result"
    }
   ],
   "source": [
    "prediction = prediction + 0.017907\n",
    "prediction = prediction/0.0000159621\n",
    "prediction"
   ]
  },
  {
   "cell_type": "code",
   "execution_count": 16,
   "metadata": {},
   "outputs": [
    {
     "name": "stderr",
     "output_type": "stream",
     "text": [
      "c:\\Users\\sneha\\OneDrive\\Desktop\\Predict-health-insurance-amount\\venv\\lib\\site-packages\\sklearn\\base.py:450: UserWarning: X does not have valid feature names, but MinMaxScaler was fitted with feature names\n",
      "  warnings.warn(\n"
     ]
    },
    {
     "name": "stdout",
     "output_type": "stream",
     "text": [
      "1/1 [==============================] - 0s 100ms/step\n"
     ]
    },
    {
     "data": {
      "text/plain": [
       "array([[22597.217]], dtype=float32)"
      ]
     },
     "execution_count": 16,
     "metadata": {},
     "output_type": "execute_result"
    }
   ],
   "source": [
    "# Predict test value\n",
    "\n",
    "dummy = 0\n",
    "arr = np.array([19,1,27.9,0,1,3])\n",
    "arr =  np.insert(arr, 6, dummy)\n",
    "testval = pd.DataFrame((arr).reshape(1,7))\n",
    "testval = scaler.transform(testval)\n",
    "testval = np.delete(testval,-1)\n",
    "pred = model.predict(testval.reshape(1,6))\n",
    "pred = pred + 0.017907\n",
    "pred = pred/0.0000159621\n",
    "pred"
   ]
  },
  {
   "cell_type": "code",
   "execution_count": 17,
   "metadata": {},
   "outputs": [
    {
     "name": "stdout",
     "output_type": "stream",
     "text": [
      "Keras weights file (<HDF5 file \"variables.h5\" (mode r+)>) saving:\n",
      "...layers\\dense\n",
      "......vars\n",
      ".........0\n",
      ".........1\n",
      "...layers\\dense_1\n",
      "......vars\n",
      ".........0\n",
      ".........1\n",
      "...layers\\dense_2\n",
      "......vars\n",
      ".........0\n",
      ".........1\n",
      "...layers\\dense_3\n",
      "......vars\n",
      ".........0\n",
      ".........1\n",
      "...metrics\\mean\n",
      "......vars\n",
      ".........0\n",
      ".........1\n",
      "...optimizer\n",
      "......vars\n",
      ".........0\n",
      ".........1\n",
      ".........10\n",
      ".........11\n",
      ".........12\n",
      ".........13\n",
      ".........14\n",
      ".........15\n",
      ".........16\n",
      ".........2\n",
      ".........3\n",
      ".........4\n",
      ".........5\n",
      ".........6\n",
      ".........7\n",
      ".........8\n",
      ".........9\n",
      "...vars\n",
      "Keras model archive saving:\n",
      "File Name                                             Modified             Size\n",
      "config.json                                    2022-12-02 17:56:25         2236\n",
      "metadata.json                                  2022-12-02 17:56:25           64\n",
      "variables.h5                                   2022-12-02 17:56:26       151008\n"
     ]
    }
   ],
   "source": [
    "import pickle\n",
    "with open('../../dnn.pkl', 'wb') as file:\n",
    "    pickle.dump(model, file)"
   ]
  }
 ],
 "metadata": {
  "kernelspec": {
   "display_name": "Python 3.10.7 ('venv': venv)",
   "language": "python",
   "name": "python3"
  },
  "language_info": {
   "codemirror_mode": {
    "name": "ipython",
    "version": 3
   },
   "file_extension": ".py",
   "mimetype": "text/x-python",
   "name": "python",
   "nbconvert_exporter": "python",
   "pygments_lexer": "ipython3",
   "version": "3.10.7"
  },
  "orig_nbformat": 4,
  "vscode": {
   "interpreter": {
    "hash": "2ea62315d80355284e62bcedd46872d98407bc22231d83c412137a13b3e2369f"
   }
  }
 },
 "nbformat": 4,
 "nbformat_minor": 2
}
